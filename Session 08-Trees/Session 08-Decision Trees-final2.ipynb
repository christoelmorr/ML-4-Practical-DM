{
 "cells": [
  {
   "cell_type": "code",
   "execution_count": null,
   "id": "71416bb5-2295-4131-9102-7ad851ce8a31",
   "metadata": {},
   "outputs": [
    {
     "name": "stdout",
     "output_type": "stream",
     "text": [
      "<class 'pandas.core.frame.DataFrame'>\n",
      "RangeIndex: 1728 entries, 0 to 1727\n",
      "Data columns (total 7 columns):\n",
      " #   Column       Non-Null Count  Dtype \n",
      "---  ------       --------------  ----- \n",
      " 0   BuyPrice     1728 non-null   object\n",
      " 1   Maintenance  1728 non-null   object\n",
      " 2   NumDoors     1728 non-null   object\n",
      " 3   NumPersons   1728 non-null   object\n",
      " 4   LuggageBoot  1728 non-null   object\n",
      " 5   Safety       1728 non-null   object\n",
      " 6   carAccept    1728 non-null   object\n",
      "dtypes: object(7)\n",
      "memory usage: 94.6+ KB\n"
     ]
    }
   ],
   "source": [
    "import pandas as pd\n",
    "from sklearn import metrics\n",
    "import numpy as np\n",
    "import seaborn as sns\n",
    "import matplotlib.pyplot as plt\n",
    "import hvplot.pandas\n",
    "import warnings\n",
    "warnings.filterwarnings('ignore')\n",
    "%matplotlib inline\n",
    "\n",
    "from sklearn.model_selection import train_test_split\n",
    "from sklearn.metrics import classification_report\n",
    "from sklearn.metrics import roc_curve, roc_auc_score, classification_report, accuracy_score, confusion_matrix\n",
    "from sklearn.pipeline import make_pipeline,Pipeline\n",
    "from sklearn.model_selection import GridSearchCV\n",
    "from sklearn.preprocessing import OneHotEncoder\n",
    "from sklearn.compose import make_column_transformer, ColumnTransformer\n",
    "from sklearn.tree import DecisionTreeClassifier\n",
    "from sklearn.tree import plot_tree\n",
    "\n",
    "df = pd.read_csv('car_evaluation.csv', header =None)\n",
    "cols = ['BuyPrice', 'Maintenance', 'NumDoors', 'NumPersons', 'LuggageBoot', 'Safety', 'carAccept']\n",
    "df.columns = cols\n",
    "\n",
    "df.head()\n",
    "df.info()\n"
   ]
  },
  {
   "cell_type": "code",
   "execution_count": null,
   "id": "48ce5a53-db67-44d5-a007-839856e6f973",
   "metadata": {},
   "outputs": [
    {
     "data": {
      "image/png": "[encoded data removed]",
      "text/plain": [
       "<Figure size 504x360 with 1 Axes>"
      ]
     },
     "metadata": {
      "needs_background": "light"
     },
     "output_type": "display_data"
    }
   ],
   "source": [
    "#Data Visualisation\n",
    "f, ax = plt.subplots(figsize=(7, 5))\n",
    "sns.countplot(x='carAccept', data=df)\n",
    "_ = plt.title('Car Evaluation')\n",
    "_ = plt.xlabel('carAccept (1==Car Acceptability)')\n"
   ]
  },
  {
   "cell_type": "code",
   "execution_count": null,
   "id": "36c74b2f-053f-4fea-9c3c-0c386e595d62",
   "metadata": {},
   "outputs": [],
   "source": [
    "x = df.drop('carAccept', axis=1)\n",
    "y = df['carAccept']\n",
    "\n",
    "#split the data into training and testing datasets\n",
    "# this is the last time we remind you that random_state parameter allows you to obtain the same results every time your run the train_test_split statement\n",
    "x_train, x_test, y_train, y_test = train_test_split(x, y, test_size=0.3, random_state=42)\n",
    "\n",
    "#Convert to numeric the categorical data\n",
    "onehotencode= OneHotEncoder(handle_unknown='ignore', sparse=False)\n",
    "\n",
    "# Fit and transform the testing dataset\n",
    "x_train_prepared=onehotencode.fit_transform(x_train)\n",
    "\n",
    "# Transform the testing dataset\n",
    "x_test_prepared=onehotencode.transform(x_test)"
   ]
  },
  {
   "cell_type": "code",
   "execution_count": null,
   "id": "50a6e4b6-d655-4884-bbed-f065f7aa011e",
   "metadata": {},
   "outputs": [],
   "source": [
    "# Prepare the model\n",
    "decision_tree = DecisionTreeClassifier(criterion='gini', min_samples_split=2, max_depth=4, random_state=0)\n",
    "\n",
    "#To check the parameters for the DecisionTreeClassifier you can type the following, but that's is not needed\n",
    "#treemodel.get_params().keys()\n",
    "\n",
    "#Optimise the Model using GridSearch\n",
    "parameters = {'criterion':['gini','entropy', 'log_loss'],\n",
    "              'max_depth':[2,3,4,5,6,7,20,30,40,50,60,70,100,130,140,150],\n",
    "              'min_samples_split': [2,3,4,5,6,7,8, 9, 10],\n",
    "              'max_leaf_nodes': [2,3,4,5,6,7,8, 9, 10],\n",
    "              'max_features': [2,3,4,5,6]\n",
    "             }\n",
    "\n",
    "grid_search = GridSearchCV(estimator=decision_tree, param_grid=parameters, cv=10)\n",
    "grid_search.fit(x_train_prepared, y_train)\n",
    "print('The best parameters:\\n', grid_search.best_params_)\n",
    "optimal_decision_tree=grid_search.best_estimator_\n",
    "print('The best model:\\n', optimal_decision_tree)\n",
    "print('The best Accuracy on the training dataset: {:.2f} %\\n'.format(grid_search.best_score_*100))\n",
    "\n",
    "#Plot Decision Tree for the optimal decision tree that was fitted on the trainnig dataset\n",
    "plt.figure(figsize=(20,12))\n",
    "plot_tree(optimal_decision_tree)\n",
    "plt.savefig('tree.png')"
   ]
  },
  {
   "cell_type": "code",
   "execution_count": null,
   "id": "aca9c9d6-54c9-4c42-9cea-a80c0094b9bd",
   "metadata": {},
   "outputs": [],
   "source": [
    "#Testing the optimized model by maknig predicton on the testing dataset\n",
    "optimal_pred = optimal_decision_tree.predict(x_test_prepared)\n",
    "#Compute the optimized Model's accuracy\n",
    "optimalscore = accuracy_score(y_test, optimal_pred)*100\n",
    "print(\"\\nTest Accuracy Score on the testing dataset: {:.2f} %\".format( optimalscore ))"
   ]
  },
  {
   "cell_type": "code",
   "execution_count": null,
   "id": "59bcd8df-0419-44e5-9b4f-9c7d367e0546",
   "metadata": {},
   "outputs": [],
   "source": []
  },
  {
   "cell_type": "code",
   "execution_count": null,
   "id": "4a5d9994-1253-421f-88ac-1e69ce8d0525",
   "metadata": {},
   "outputs": [],
   "source": []
  },
  {
   "cell_type": "code",
   "execution_count": null,
   "id": "2533ff63-577d-4922-a768-8fd5bfe5e93b",
   "metadata": {},
   "outputs": [],
   "source": []
  }
 ],
 "metadata": {
  "kernelspec": {
   "display_name": "Python 3 (ipykernel)",
   "language": "python",
   "name": "python3"
  },
  "language_info": {
   "codemirror_mode": {
    "name": "ipython",
    "version": 3
   },
   "file_extension": ".py",
   "mimetype": "text/x-python",
   "name": "python",
   "nbconvert_exporter": "python",
   "pygments_lexer": "ipython3",
   "version": "3.10.5"
  }
 },
 "nbformat": 4,
 "nbformat_minor": 5
}
