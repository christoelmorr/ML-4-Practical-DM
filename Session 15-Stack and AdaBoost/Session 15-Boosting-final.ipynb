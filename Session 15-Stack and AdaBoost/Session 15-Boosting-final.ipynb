{
 "cells": [
  {
   "cell_type": "markdown",
   "metadata": {
    "colab_type": "text",
    "id": "view-in-github"
   },
   "source": [
    "<a href=\"https://colab.research.google.com/github/Aashrut/Machine-Learning/blob/master/Multiple_Linear_Regression.ipynb\" target=\"_parent\"><img src=\"https://colab.research.google.com/assets/colab-badge.svg\" alt=\"Open In Colab\"/></a>"
   ]
  },
  {
   "cell_type": "markdown",
   "metadata": {
    "colab_type": "text",
    "id": "6KXnQsdzxlWm"
   },
   "source": [
    "#Data Preprocessing"
   ]
  },
  {
   "cell_type": "code",
   "execution_count": 17,
   "metadata": {
    "scrolled": true
   },
   "outputs": [],
   "source": [
    "# Imports Required Libraries\n",
    "import numpy as np \n",
    "import pandas as pd # data processing\n",
    "import matplotlib.pyplot as plt \n",
    "import seaborn as sns\n",
    "import warnings\n",
    "warnings.filterwarnings('ignore')\n",
    "from sklearn.metrics import confusion_matrix, accuracy_score,classification_report\n",
    "%matplotlib inline\n",
    "from sklearn.preprocessing import LabelEncoder, StandardScaler\n",
    "from sklearn.metrics import  f1_score, log_loss\n",
    "from sklearn.model_selection import train_test_split, KFold\n",
    "from sklearn.svm import SVC\n",
    "from sklearn.linear_model import LogisticRegression\n",
    "from sklearn.neighbors import KNeighborsClassifier\n",
    "from sklearn.naive_bayes import GaussianNB\n",
    "from mlxtend.classifier import StackingClassifier\n",
    "\n",
    "import numpy as np\n",
    "\n",
    "# load Heart dataset\n",
    "df = pd.read_csv('heart.csv')"
   ]
  },
  {
   "cell_type": "code",
   "execution_count": 18,
   "metadata": {
    "scrolled": true
   },
   "outputs": [
    {
     "data": {
      "text/plain": [
       "Text(0.5, 1.0, 'heart failure Correlation')"
      ]
     },
     "execution_count": 18,
     "metadata": {},
     "output_type": "execute_result"
    },
    {
     "data": {
      "image/png": "[encoded data removed]",
      "text/plain": [
       "<Figure size 432x288 with 2 Axes>"
      ]
     },
     "metadata": {
      "needs_background": "light"
     },
     "output_type": "display_data"
    }
   ],
   "source": [
    "#Data Visualisation\n",
    "plt.figure(1)\n",
    "sns.heatmap(df.corr())\n",
    "plt.title('heart failure Correlation')"
   ]
  },
  {
   "cell_type": "code",
   "execution_count": 19,
   "metadata": {},
   "outputs": [],
   "source": [
    "#Preprocess data: converting string to numeric\n",
    "from sklearn.preprocessing import LabelEncoder\n",
    "lbl=LabelEncoder()\n",
    "\n",
    "df['Sex']=lbl.fit_transform(df['Sex'])\n",
    "df['RestingECG']=lbl.fit_transform(df['RestingECG'])\n",
    "df['ChestPainType']=lbl.fit_transform(df['ChestPainType'])\n",
    "df['ExerciseAngina']=lbl.fit_transform(df['ExerciseAngina'])\n",
    "df['ST_Slope']=lbl.fit_transform(df['ST_Slope'])\n"
   ]
  },
  {
   "cell_type": "code",
   "execution_count": 20,
   "metadata": {},
   "outputs": [],
   "source": [
    "# Split Heart dataset into training/testing data\n",
    "X = df.drop('HeartDisease', axis=1).values\n",
    "X = X.reshape(-1,11)\n",
    "y = df['HeartDisease'].values\n",
    "y =y.reshape(-1,1)\n",
    "X_train, X_test, y_train, y_test = train_test_split(X, y, test_size=0.3,random_state = 300)\n",
    "\n",
    "# initializing scaler object\n",
    "from sklearn.pipeline import Pipeline\n",
    "\n",
    "# standardizing the datasets\n",
    "scaler = StandardScaler()\n",
    "X_train_new = scaler.fit_transform(X_train)\n",
    "X_test_new = scaler.transform(X_test)            \n"
   ]
  },
  {
   "cell_type": "code",
   "execution_count": 21,
   "metadata": {},
   "outputs": [],
   "source": [
    "from sklearn.ensemble import AdaBoostClassifier\n",
    "\n",
    "#Create the Adaboost Classifier\n",
    "adaBoost_clf = AdaBoostClassifier(n_estimators=500, learning_rate=0.01, random_state=300)\n",
    "\n",
    "#Create the Stacking Classifier\n",
    "logR_clf = LogisticRegression()  # defining meta-classifier\n",
    "knn_clf = KNeighborsClassifier()   # initialising KNeighbors Classifier\n",
    "NB_clf = GaussianNB()              # initialising Naive Bayes\n",
    "stack_clf = StackingClassifier(classifiers =[knn_clf, NB_clf], meta_classifier = logR_clf, \n",
    "                               use_probas = True, use_features_in_secondary = True)\n",
    "\n",
    "# Train the AdaBoost classifier\n",
    "model = adaBoost_clf.fit(X_train_new, y_train)\n",
    "adaboost_test_pred = model.predict(X_test_new)\n",
    "\n",
    "# Train the Stacking classifier\n",
    "model_stack = stack_clf.fit(X_train_new, y_train)   \n",
    "stack_test_pred = model_stack.predict(X_test_new)"
   ]
  },
  {
   "cell_type": "code",
   "execution_count": 29,
   "metadata": {},
   "outputs": [
    {
     "name": "stdout",
     "output_type": "stream",
     "text": [
      "Adaboost Model Performance on the Training Dataset:\n",
      "accuracy score: 86.9159%\n",
      "\n",
      "Classification Report: \n",
      "               precision    recall  f1-score   support\n",
      "\n",
      "           0       0.87      0.82      0.84       274\n",
      "           1       0.87      0.91      0.89       368\n",
      "\n",
      "    accuracy                           0.87       642\n",
      "   macro avg       0.87      0.86      0.87       642\n",
      "weighted avg       0.87      0.87      0.87       642\n",
      "\n",
      "\n",
      "Confusion Matrix: \n",
      " [[224  50]\n",
      " [ 34 334]]\n",
      "\n"
     ]
    },
    {
     "data": {
      "image/png": "[encoded data removed]",
      "text/plain": [
       "<Figure size 432x288 with 2 Axes>"
      ]
     },
     "metadata": {
      "needs_background": "light"
     },
     "output_type": "display_data"
    },
    {
     "name": "stdout",
     "output_type": "stream",
     "text": [
      "Adaboost Model Performance on the Testing Dataset:\n",
      "accuracy score: 86.5942%\n",
      "\n",
      "Classification Report: \n",
      "               precision    recall  f1-score   support\n",
      "\n",
      "           0       0.92      0.80      0.85       136\n",
      "           1       0.83      0.93      0.88       140\n",
      "\n",
      "    accuracy                           0.87       276\n",
      "   macro avg       0.87      0.87      0.87       276\n",
      "weighted avg       0.87      0.87      0.87       276\n",
      "\n",
      "\n",
      "Confusion Matrix: \n",
      " [[109  27]\n",
      " [ 10 130]]\n",
      "\n"
     ]
    },
    {
     "data": {
      "image/png": "[encoded data removed]",
      "text/plain": [
       "<Figure size 432x288 with 2 Axes>"
      ]
     },
     "metadata": {
      "needs_background": "light"
     },
     "output_type": "display_data"
    },
    {
     "name": "stdout",
     "output_type": "stream",
     "text": [
      "Stacking Model Performance on the Training Dataset:\n",
      "accuracy score: 89.7196%\n",
      "\n",
      "Classification Report: \n",
      "               precision    recall  f1-score   support\n",
      "\n",
      "           0       0.89      0.86      0.88       274\n",
      "           1       0.90      0.92      0.91       368\n",
      "\n",
      "    accuracy                           0.90       642\n",
      "   macro avg       0.90      0.89      0.89       642\n",
      "weighted avg       0.90      0.90      0.90       642\n",
      "\n",
      "\n",
      "Confusion Matrix: \n",
      " [[237  37]\n",
      " [ 29 339]]\n",
      "\n"
     ]
    },
    {
     "data": {
      "image/png": "[encoded data removed]",
      "text/plain": [
       "<Figure size 432x288 with 2 Axes>"
      ]
     },
     "metadata": {
      "needs_background": "light"
     },
     "output_type": "display_data"
    },
    {
     "name": "stdout",
     "output_type": "stream",
     "text": [
      "Stacking Model Performance on the Testing Dataset:\n",
      "accuracy score: 86.9565%\n",
      "\n",
      "Classification Report: \n",
      "               precision    recall  f1-score   support\n",
      "\n",
      "           0       0.91      0.82      0.86       136\n",
      "           1       0.84      0.92      0.88       140\n",
      "\n",
      "    accuracy                           0.87       276\n",
      "   macro avg       0.87      0.87      0.87       276\n",
      "weighted avg       0.87      0.87      0.87       276\n",
      "\n",
      "\n",
      "Confusion Matrix: \n",
      " [[111  25]\n",
      " [ 11 129]]\n",
      "\n"
     ]
    },
    {
     "data": {
      "image/png": "[encoded data removed]",
      "text/plain": [
       "<Figure size 432x288 with 2 Axes>"
      ]
     },
     "metadata": {
      "needs_background": "light"
     },
     "output_type": "display_data"
    }
   ],
   "source": [
    "def print_score(st, y, y_pred):\n",
    "        print(st)\n",
    "        print(\"accuracy score: {0:.4f}%\\n\".format(accuracy_score(y, y_pred)*100))\n",
    "        print(\"Classification Report: \\n {}\\n\".format(classification_report(y, y_pred)))\n",
    "        print(\"Confusion Matrix: \\n {}\\n\".format(confusion_matrix(y, y_pred)))\n",
    "        sns.heatmap(pd.DataFrame(confusion_matrix(y,y_pred)))\n",
    "        plt.show()\n",
    "        \n",
    "#print Adaboost classifier model metrics results\n",
    "print_score(\"Adaboost Model Performance on the Training Dataset:\", y_train, adaboost_train_pred)\n",
    "print_score(\"Adaboost Model Performance on the Testing Dataset:\", y_test, adaboost_test_pred)\n",
    "\n",
    "\n",
    "#print Stacking classifier model metrics results\n",
    "print_score(\"Stacking Model Performance on the Training Dataset:\", y_train, stack_train_pred)\n",
    "print_score(\"Stacking Model Performance on the Testing Dataset:\" , y_test, stack_test_pred)"
   ]
  },
  {
   "cell_type": "code",
   "execution_count": 25,
   "metadata": {},
   "outputs": [
    {
     "name": "stdout",
     "output_type": "stream",
     "text": [
      "Optimized Stacking Model Performance on the Testing Dataset:\n",
      "accuracy score: 88.0435%\n",
      "\n",
      "Classification Report: \n",
      "               precision    recall  f1-score   support\n",
      "\n",
      "           0       0.92      0.83      0.87       136\n",
      "           1       0.85      0.93      0.89       140\n",
      "\n",
      "    accuracy                           0.88       276\n",
      "   macro avg       0.88      0.88      0.88       276\n",
      "weighted avg       0.88      0.88      0.88       276\n",
      "\n",
      "\n",
      "Confusion Matrix: \n",
      " [[113  23]\n",
      " [ 10 130]]\n",
      "\n"
     ]
    },
    {
     "data": {
      "image/png": "[encoded data removed]",
      "text/plain": [
       "<Figure size 432x288 with 2 Axes>"
      ]
     },
     "metadata": {
      "needs_background": "light"
     },
     "output_type": "display_data"
    }
   ],
   "source": [
    "from sklearn.model_selection import GridSearchCV\n",
    "\n",
    "sclf = StackingClassifier(classifiers=[knn_clf, NB_clf], meta_classifier=logR_clf)\n",
    "params = {'kneighborsclassifier__n_neighbors': [1, 5],\n",
    "          'meta_classifier__C': [0.1, 10.0]}\n",
    "grid = GridSearchCV(estimator=sclf, \n",
    "                    param_grid=params, \n",
    "                    cv=5,\n",
    "                    refit=True)\n",
    "grid.fit(X_test_new, y_test)             \n",
    "optimal_Stacking_pred= grid.predict(X_test_new)\n",
    "print_score(\"Optimized Stacking Model Performance on the Testing Dataset:\", y_test, optimal_Stacking_pred)"
   ]
  },
  {
   "cell_type": "code",
   "execution_count": 30,
   "metadata": {},
   "outputs": [
    {
     "name": "stdout",
     "output_type": "stream",
     "text": [
      "Optimized AdaBoost Model Performance on the Testing Dataset:\n",
      "accuracy score: 88.0435%\n",
      "\n",
      "Classification Report: \n",
      "               precision    recall  f1-score   support\n",
      "\n",
      "           0       0.92      0.83      0.87       136\n",
      "           1       0.85      0.93      0.89       140\n",
      "\n",
      "    accuracy                           0.88       276\n",
      "   macro avg       0.88      0.88      0.88       276\n",
      "weighted avg       0.88      0.88      0.88       276\n",
      "\n",
      "\n",
      "Confusion Matrix: \n",
      " [[113  23]\n",
      " [ 10 130]]\n",
      "\n"
     ]
    },
    {
     "data": {
      "image/png": "[encoded data removed]",
      "text/plain": [
       "<Figure size 432x288 with 2 Axes>"
      ]
     },
     "metadata": {
      "needs_background": "light"
     },
     "output_type": "display_data"
    }
   ],
   "source": [
    "\n",
    "ada_params={'n_estimators':[50,100,200],'learning_rate':[.001,0.01,.1]}\n",
    "gsearch=GridSearchCV(estimator=adaBoost_clf,param_grid=ada_params,scoring='accuracy',n_jobs=1,cv=5)\n",
    "gsearch.fit(X_test_new, y_test)             \n",
    "optimal_boost_pred= grid.predict(X_test_new)\n",
    "print_score(\"Optimized AdaBoost Model Performance on the Testing Dataset:\" , y_test, optimal_boost_pred)"
   ]
  },
  {
   "cell_type": "code",
   "execution_count": null,
   "metadata": {},
   "outputs": [],
   "source": []
  },
  {
   "cell_type": "code",
   "execution_count": null,
   "metadata": {},
   "outputs": [],
   "source": []
  }
 ],
 "metadata": {
  "colab": {
   "authorship_tag": "ABX9TyODtn09HRLrmI/9R8pNZq6k",
   "include_colab_link": true,
   "name": "Multiple Linear Regression.ipynb",
   "provenance": [],
   "toc_visible": true
  },
  "kernelspec": {
   "display_name": "Python 3 (ipykernel)",
   "language": "python",
   "name": "python3"
  },
  "language_info": {
   "codemirror_mode": {
    "name": "ipython",
    "version": 3
   },
   "file_extension": ".py",
   "mimetype": "text/x-python",
   "name": "python",
   "nbconvert_exporter": "python",
   "pygments_lexer": "ipython3",
   "version": "3.10.5"
  }
 },
 "nbformat": 4,
 "nbformat_minor": 4
}
