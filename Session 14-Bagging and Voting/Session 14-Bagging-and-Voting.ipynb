{
 "cells": [
  {
   "cell_type": "markdown",
   "metadata": {
    "colab_type": "text",
    "id": "view-in-github"
   },
   "source": [
    "<a href=\"https://colab.research.google.com/github/Aashrut/Machine-Learning/blob/master/Multiple_Linear_Regression.ipynb\" target=\"_parent\"><img src=\"https://colab.research.google.com/assets/colab-badge.svg\" alt=\"Open In Colab\"/></a>"
   ]
  },
  {
   "cell_type": "markdown",
   "metadata": {
    "colab_type": "text",
    "id": "6KXnQsdzxlWm"
   },
   "source": [
    "#Data Preprocessing"
   ]
  },
  {
   "cell_type": "code",
   "execution_count": 1,
   "metadata": {
    "scrolled": true
   },
   "outputs": [
    {
     "name": "stdout",
     "output_type": "stream",
     "text": [
      "<class 'pandas.core.frame.DataFrame'>\n",
      "RangeIndex: 891 entries, 0 to 890\n",
      "Data columns (total 12 columns):\n",
      " #   Column       Non-Null Count  Dtype  \n",
      "---  ------       --------------  -----  \n",
      " 0   PassengerId  891 non-null    int64  \n",
      " 1   Survived     891 non-null    int64  \n",
      " 2   Pclass       891 non-null    int64  \n",
      " 3   Name         891 non-null    object \n",
      " 4   Sex          891 non-null    object \n",
      " 5   Age          714 non-null    float64\n",
      " 6   SibSp        891 non-null    int64  \n",
      " 7   Parch        891 non-null    int64  \n",
      " 8   Ticket       891 non-null    object \n",
      " 9   Fare         891 non-null    float64\n",
      " 10  Cabin        204 non-null    object \n",
      " 11  Embarked     889 non-null    object \n",
      "dtypes: float64(2), int64(5), object(5)\n",
      "memory usage: 83.7+ KB\n"
     ]
    }
   ],
   "source": [
    "# Imports Required Libraries\n",
    "import numpy as np \n",
    "import pandas as pd # data processing\n",
    "import matplotlib.pyplot as plt \n",
    "import seaborn as sns\n",
    "import warnings\n",
    "warnings.filterwarnings('ignore')\n",
    "from sklearn.metrics import confusion_matrix, accuracy_score,classification_report\n",
    "%matplotlib inline\n",
    "from sklearn.preprocessing import LabelEncoder, StandardScaler\n",
    "from sklearn.metrics import  f1_score, log_loss\n",
    "from sklearn.model_selection import train_test_split, KFold\n",
    "from sklearn.svm import SVC\n",
    "from sklearn.linear_model import LogisticRegression\n",
    "from sklearn.tree import DecisionTreeClassifier\n",
    "from sklearn.ensemble import VotingClassifier\n",
    "from sklearn.ensemble import BaggingClassifier\n",
    "from sklearn.ensemble import RandomForestClassifier\n",
    "import numpy as np\n",
    "\n",
    "# load the Titanic dataset\n",
    "df = pd.read_csv('titanic.csv')\n",
    "df.info()"
   ]
  },
  {
   "cell_type": "code",
   "execution_count": 2,
   "metadata": {
    "scrolled": true
   },
   "outputs": [
    {
     "data": {
      "text/plain": [
       "Text(0.5, 1.0, 'Correlation \\n Titanic Dataset')"
      ]
     },
     "execution_count": 2,
     "metadata": {},
     "output_type": "execute_result"
    },
    {
     "data": {
      "image/png": "[encoded data removed]",
      "text/plain": [
       "<Figure size 432x288 with 2 Axes>"
      ]
     },
     "metadata": {
      "needs_background": "light"
     },
     "output_type": "display_data"
    }
   ],
   "source": [
    "#Data Visualisation\n",
    "plt.figure(1)\n",
    "sns.heatmap(df.corr())\n",
    "plt.title('Correlation \\n Titanic Dataset')"
   ]
  },
  {
   "cell_type": "code",
   "execution_count": null,
   "metadata": {},
   "outputs": [],
   "source": []
  },
  {
   "cell_type": "code",
   "execution_count": 3,
   "metadata": {},
   "outputs": [],
   "source": [
    "df.drop(labels=['PassengerId','Cabin', 'Ticket', 'Name'], axis=1, inplace=True)\n",
    "df[\"Age\"].fillna(df[\"Age\"].median(), inplace=True)\n",
    "df[\"Embarked\"].fillna(\"S\", inplace=True)\n",
    "\n",
    "encoder = LabelEncoder()\n",
    "# Transform the Sex data and copy them back into the Sex fearure \n",
    "df[\"Sex\"]=encoder.fit_transform(df[\"Sex\"])\n",
    "df[\"Embarked\"] = encoder.fit_transform(df[\"Embarked\"])\n",
    "\n",
    "# Any value we want to reshape needs be turned into array first\n",
    "ages_df = np.array(df[\"Age\"]).reshape(-1, 1)\n",
    "fares_df = np.array(df[\"Fare\"]).reshape(-1, 1)\n",
    "\n",
    "# Scaler  arrays\n",
    "scaler = StandardScaler()\n",
    "\n",
    "df[\"Age\"] = scaler.fit_transform(ages_df)\n",
    "df[\"Fare\"] = scaler.fit_transform(fares_df)\n",
    "\n",
    "# Split Titanic dataset into training/testing data\n",
    "X = df.drop(labels=['Survived'], axis=1)\n",
    "y = df['Survived']\n",
    "X_train, X_test, y_train, y_test = train_test_split(X, y, test_size=0.3)"
   ]
  },
  {
   "cell_type": "code",
   "execution_count": 4,
   "metadata": {},
   "outputs": [],
   "source": [
    "#Create decision tree, logic regression and Support Vector models\n",
    "dt_clf = DecisionTreeClassifier(criterion = 'gini', max_depth = 4, random_state = 0)\n",
    "\n",
    "lReg_clf = LogisticRegression()\n",
    "sv_clf = SVC()\n",
    "\n",
    "dtree = BaggingClassifier(base_estimator=dt_clf, n_estimators=50, random_state=12)\n",
    "dtree_fit= dtree.fit(X_train, y_train)\n",
    "dtree_test_pred = dtree.predict(X_test)\n",
    "\n",
    "\n",
    "voting_clf = VotingClassifier(estimators=[('SVC', sv_clf), ('LogReg', lReg_clf)], voting='hard')\n",
    "voting_clf.fit(X_train, y_train)\n",
    "voting_test_pred = voting_clf.predict(X_test)\n"
   ]
  },
  {
   "cell_type": "code",
   "execution_count": 6,
   "metadata": {},
   "outputs": [
    {
     "name": "stdout",
     "output_type": "stream",
     "text": [
      "Bagging performance on the testing dataset\n",
      "accuracy score: 82.4627%\n",
      "\n",
      "Classification Report: \n",
      "               precision    recall  f1-score   support\n",
      "\n",
      "           0       0.84      0.91      0.87       176\n",
      "           1       0.79      0.66      0.72        92\n",
      "\n",
      "    accuracy                           0.82       268\n",
      "   macro avg       0.81      0.79      0.80       268\n",
      "weighted avg       0.82      0.82      0.82       268\n",
      "\n",
      "\n",
      "Confusion Matrix: \n",
      " [[160  16]\n",
      " [ 31  61]]\n",
      "\n"
     ]
    },
    {
     "data": {
      "image/png": "[encoded data removed]",
      "text/plain": [
       "<Figure size 432x288 with 2 Axes>"
      ]
     },
     "metadata": {
      "needs_background": "light"
     },
     "output_type": "display_data"
    },
    {
     "name": "stdout",
     "output_type": "stream",
     "text": [
      "Test Result for Voting Model:\n",
      "accuracy score: 81.7164%\n",
      "\n",
      "Classification Report: \n",
      "               precision    recall  f1-score   support\n",
      "\n",
      "           0       0.83      0.90      0.87       176\n",
      "           1       0.78      0.65      0.71        92\n",
      "\n",
      "    accuracy                           0.82       268\n",
      "   macro avg       0.81      0.78      0.79       268\n",
      "weighted avg       0.81      0.82      0.81       268\n",
      "\n",
      "\n",
      "Confusion Matrix: \n",
      " [[159  17]\n",
      " [ 32  60]]\n",
      "\n"
     ]
    },
    {
     "data": {
      "image/png": "[encoded data removed]",
      "text/plain": [
       "<Figure size 432x288 with 2 Axes>"
      ]
     },
     "metadata": {
      "needs_background": "light"
     },
     "output_type": "display_data"
    }
   ],
   "source": [
    "def print_score(st, y, y_pred):\n",
    "        print(st)\n",
    "        print(\"accuracy score: {0:.4f}%\\n\".format(accuracy_score(y, y_pred)*100))\n",
    "        print(\"Classification Report: \\n {}\\n\".format(classification_report(y, y_pred)))\n",
    "        print(\"Confusion Matrix: \\n {}\\n\".format(confusion_matrix(y, y_pred)))\n",
    "        sns.heatmap(pd.DataFrame(confusion_matrix(y,y_pred)))\n",
    "        plt.show()\n",
    "     \n",
    "\n",
    "#print Bagging classifier model metrics results\n",
    "print_score(\"Bagging performance on the testing dataset\", y_test, dtree_test_pred)\n",
    "\n",
    "#Print Voting algorithme metrics results\n",
    "print_score(\"Voting performance on the testing dataset:\", y_test, voting_test_pred)"
   ]
  },
  {
   "cell_type": "code",
   "execution_count": 10,
   "metadata": {},
   "outputs": [
    {
     "name": "stdout",
     "output_type": "stream",
     "text": [
      "Optimized Bagging Model Performance on the testing dataset:\n",
      "accuracy score: 82.8358%\n",
      "\n",
      "Classification Report: \n",
      "               precision    recall  f1-score   support\n",
      "\n",
      "           0       0.84      0.91      0.88       176\n",
      "           1       0.80      0.66      0.73        92\n",
      "\n",
      "    accuracy                           0.83       268\n",
      "   macro avg       0.82      0.79      0.80       268\n",
      "weighted avg       0.83      0.83      0.82       268\n",
      "\n",
      "\n",
      "Confusion Matrix: \n",
      " [[161  15]\n",
      " [ 31  61]]\n",
      "\n"
     ]
    },
    {
     "data": {
      "image/png": "[encoded data removed]",
      "text/plain": [
       "<Figure size 432x288 with 2 Axes>"
      ]
     },
     "metadata": {
      "needs_background": "light"
     },
     "output_type": "display_data"
    }
   ],
   "source": [
    "#Optimize Bagging Classifier Model\n",
    "from sklearn.model_selection import GridSearchCV\n",
    "params_grid = {'base_estimator__max_depth' : [1, 2, 3, 4, 5],\n",
    "                'max_samples' : [0.05, 0.1, 0.2, 0.5]}\n",
    "grid_search = GridSearchCV(dtree, params_grid,scoring='accuracy', cv=5)\n",
    "grid_search.fit(X_train, y_train)\n",
    "optimal_Bagging_test_pred = grid_search.predict(X_test)\n",
    "grid_search.best_estimator_.get_params()\n",
    "\n",
    "#print the optimised Bagging classifier metrics results\n",
    "print_score(\"Optimized Bagging Model Performance on the testing dataset:\", y_test, optimal_Bagging_test_pred)"
   ]
  },
  {
   "cell_type": "code",
   "execution_count": 11,
   "metadata": {},
   "outputs": [
    {
     "name": "stdout",
     "output_type": "stream",
     "text": [
      "Optimized Voting Model Performance on the testing dataset:\n",
      "accuracy score: 81.3433%\n",
      "\n",
      "Classification Report: \n",
      "               precision    recall  f1-score   support\n",
      "\n",
      "           0       0.82      0.91      0.86       176\n",
      "           1       0.78      0.63      0.70        92\n",
      "\n",
      "    accuracy                           0.81       268\n",
      "   macro avg       0.80      0.77      0.78       268\n",
      "weighted avg       0.81      0.81      0.81       268\n",
      "\n",
      "\n",
      "Confusion Matrix: \n",
      " [[160  16]\n",
      " [ 34  58]]\n",
      "\n"
     ]
    },
    {
     "data": {
      "image/png": "[encoded data removed]",
      "text/plain": [
       "<Figure size 432x288 with 2 Axes>"
      ]
     },
     "metadata": {
      "needs_background": "light"
     },
     "output_type": "display_data"
    }
   ],
   "source": [
    "#Optimize voting algorithm Model\n",
    "params = {'LogReg__C': [1.0, 100.0],\n",
    "      'SVC__C': [2,3,4],}\n",
    "\n",
    "grid = GridSearchCV(estimator=voting_clf, param_grid=params, cv=5)\n",
    "grid.fit(X_train, y_train)\n",
    "optimal_Voting_test_pred = grid.predict(X_test)\n",
    "grid.best_estimator_.get_params()\n",
    "\n",
    "#print the optimised voting model metrics results\n",
    "print_score(\"Optimized Voting Model Performance on the testing dataset:\", y_test, optimal_Voting_test_pred)"
   ]
  },
  {
   "cell_type": "code",
   "execution_count": null,
   "metadata": {},
   "outputs": [],
   "source": []
  },
  {
   "cell_type": "code",
   "execution_count": null,
   "metadata": {},
   "outputs": [],
   "source": []
  },
  {
   "cell_type": "code",
   "execution_count": null,
   "metadata": {},
   "outputs": [],
   "source": []
  },
  {
   "cell_type": "code",
   "execution_count": null,
   "metadata": {},
   "outputs": [],
   "source": []
  }
 ],
 "metadata": {
  "colab": {
   "authorship_tag": "ABX9TyODtn09HRLrmI/9R8pNZq6k",
   "include_colab_link": true,
   "name": "Multiple Linear Regression.ipynb",
   "provenance": [],
   "toc_visible": true
  },
  "kernelspec": {
   "display_name": "Python 3 (ipykernel)",
   "language": "python",
   "name": "python3"
  },
  "language_info": {
   "codemirror_mode": {
    "name": "ipython",
    "version": 3
   },
   "file_extension": ".py",
   "mimetype": "text/x-python",
   "name": "python",
   "nbconvert_exporter": "python",
   "pygments_lexer": "ipython3",
   "version": "3.10.5"
  }
 },
 "nbformat": 4,
 "nbformat_minor": 4
}
