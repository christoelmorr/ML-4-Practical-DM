{
 "cells": [
  {
   "cell_type": "markdown",
   "metadata": {
    "colab_type": "text",
    "id": "view-in-github"
   },
   "source": [
    "<a href=\"https://colab.research.google.com/github/Aashrut/Machine-Learning/blob/master/Multiple_Linear_Regression.ipynb\" target=\"_parent\"><img src=\"https://colab.research.google.com/assets/colab-badge.svg\" alt=\"Open In Colab\"/></a>"
   ]
  },
  {
   "cell_type": "markdown",
   "metadata": {
    "colab_type": "text",
    "id": "6KXnQsdzxlWm"
   },
   "source": [
    "#Data Preprocessing"
   ]
  },
  {
   "cell_type": "code",
   "execution_count": 2,
   "metadata": {
    "scrolled": true
   },
   "outputs": [
    {
     "name": "stdout",
     "output_type": "stream",
     "text": [
      "<class 'pandas.core.frame.DataFrame'>\n",
      "RangeIndex: 32561 entries, 0 to 32560\n",
      "Data columns (total 15 columns):\n",
      " #   Column          Non-Null Count  Dtype \n",
      "---  ------          --------------  ----- \n",
      " 0   age             32561 non-null  int64 \n",
      " 1   workclass       32561 non-null  object\n",
      " 2   fnlwgt          32561 non-null  int64 \n",
      " 3   education       32561 non-null  object\n",
      " 4   education.num   32561 non-null  int64 \n",
      " 5   marital.status  32561 non-null  object\n",
      " 6   occupation      32561 non-null  object\n",
      " 7   relationship    32561 non-null  object\n",
      " 8   race            32561 non-null  object\n",
      " 9   sex             32561 non-null  object\n",
      " 10  capital.gain    32561 non-null  int64 \n",
      " 11  capital.loss    32561 non-null  int64 \n",
      " 12  hours.per.week  32561 non-null  int64 \n",
      " 13  native.country  32561 non-null  object\n",
      " 14  income          32561 non-null  object\n",
      "dtypes: int64(6), object(9)\n",
      "memory usage: 3.7+ MB\n"
     ]
    }
   ],
   "source": [
    "# Imports Required Libraries\n",
    "import numpy as np \n",
    "import pandas as pd # data processing\n",
    "import matplotlib.pyplot as plt \n",
    "import seaborn as sns\n",
    "import numpy as np\n",
    "\n",
    "from sklearn.cluster import KMeans\n",
    "from sklearn.metrics import average_precision_score\n",
    "from sklearn.metrics import precision_recall_curve\n",
    "from sklearn.metrics import confusion_matrix, roc_curve,accuracy_score,roc_auc_score,classification_report,auc\n",
    "from sklearn.metrics import f1_score\n",
    "from sklearn.preprocessing import StandardScaler\n",
    "from sklearn.preprocessing import MinMaxScaler\n",
    "\n",
    "%matplotlib inline\n",
    "\n",
    "# load persons Dataset\n",
    "df = pd.read_csv('adult.csv')\n",
    "\n",
    "df.info()"
   ]
  },
  {
   "cell_type": "code",
   "execution_count": 3,
   "metadata": {},
   "outputs": [
    {
     "data": {
      "image/png": "[encoded data removed]",
      "text/plain": [
       "<Figure size 504x360 with 1 Axes>"
      ]
     },
     "metadata": {
      "needs_background": "light"
     },
     "output_type": "display_data"
    }
   ],
   "source": [
    "#Data Visualisation\n",
    "f, ax = plt.subplots(figsize=(7, 5))\n",
    "sns.countplot(x='income', data=df)\n",
    "_ = plt.title('(Person\\'s income <= 50k) vs (Persons Income > 50k)')\n",
    "_ = plt.xlabel('Person\\'s Income')\n",
    "_ = plt.ylabel('Frequency')"
   ]
  },
  {
   "cell_type": "code",
   "execution_count": 4,
   "metadata": {},
   "outputs": [],
   "source": [
    "#More Data Visualisation\n",
    "#p=sns.pairplot(df, hue = 'income')"
   ]
  },
  {
   "cell_type": "code",
   "execution_count": 5,
   "metadata": {},
   "outputs": [],
   "source": [
    "df[\"workclass\"] = df[\"workclass\"].replace('?','unknown')\n",
    "df[\"occupation\"] = df[\"occupation\"].replace('?','unknown')\n",
    "\n",
    "#drop two irrelevant features\n",
    "df =df.drop([\"native.country\"], axis =1)"
   ]
  },
  {
   "cell_type": "code",
   "execution_count": 6,
   "metadata": {},
   "outputs": [
    {
     "name": "stdout",
     "output_type": "stream",
     "text": [
      "<class 'pandas.core.frame.DataFrame'>\n",
      "RangeIndex: 32561 entries, 0 to 32560\n",
      "Data columns (total 22 columns):\n",
      " #   Column            Non-Null Count  Dtype \n",
      "---  ------            --------------  ----- \n",
      " 0   age               32561 non-null  int64 \n",
      " 1   fnlwgt            32561 non-null  int64 \n",
      " 2   education         32561 non-null  object\n",
      " 3   education.num     32561 non-null  int64 \n",
      " 4   marital.status    32561 non-null  object\n",
      " 5   occupation        32561 non-null  object\n",
      " 6   relationship      32561 non-null  object\n",
      " 7   race              32561 non-null  object\n",
      " 8   sex               32561 non-null  object\n",
      " 9   capital.gain      32561 non-null  int64 \n",
      " 10  capital.loss      32561 non-null  int64 \n",
      " 11  hours.per.week    32561 non-null  int64 \n",
      " 12  income            32561 non-null  object\n",
      " 13  Federal-gov       32561 non-null  uint8 \n",
      " 14  Local-gov         32561 non-null  uint8 \n",
      " 15  Never-worked      32561 non-null  uint8 \n",
      " 16  Private           32561 non-null  uint8 \n",
      " 17  Self-emp-inc      32561 non-null  uint8 \n",
      " 18  Self-emp-not-inc  32561 non-null  uint8 \n",
      " 19  State-gov         32561 non-null  uint8 \n",
      " 20  Without-pay       32561 non-null  uint8 \n",
      " 21  unknown           32561 non-null  uint8 \n",
      "dtypes: int64(6), object(7), uint8(9)\n",
      "memory usage: 3.5+ MB\n"
     ]
    }
   ],
   "source": [
    "# get the dummy variables from te workclass feature\n",
    "dummies = pd.get_dummies(df.workclass)\n",
    "    \n",
    "# Concatenate the dummies to the original dataframe\n",
    "merged = pd.concat([df, dummies], axis='columns')\n",
    "\n",
    "# drop the workclass features as it is not needed anymore\n",
    "df=merged.drop(columns=['workclass'])\n",
    "\n",
    "# print the dataframe info for verification\n",
    "df.info()"
   ]
  },
  {
   "cell_type": "code",
   "execution_count": 7,
   "metadata": {},
   "outputs": [],
   "source": [
    "# get the dummy variables from te marital.status feature\n",
    "dummies = pd.get_dummies(df[\"marital.status\"])\n",
    "\n",
    "# Concatenate the dummies to the original dataframe\n",
    "merged = pd.concat([df, dummies], axis='columns')\n",
    "\n",
    "# drop the education features as it is not neded anymore\n",
    "df=merged.drop(columns=['marital.status'])"
   ]
  },
  {
   "cell_type": "code",
   "execution_count": 8,
   "metadata": {},
   "outputs": [],
   "source": [
    "# get the dummy variables from te occupation feature\n",
    "dummies = pd.get_dummies(df.occupation)\n",
    "\n",
    "# Concatenate the dummies to the original dataframe\n",
    "merged = pd.concat([df, dummies], axis='columns')\n",
    "\n",
    "# drop the education features as it is not neded anymore\n",
    "df=merged.drop(columns=['occupation'])"
   ]
  },
  {
   "cell_type": "code",
   "execution_count": 9,
   "metadata": {},
   "outputs": [],
   "source": [
    "# get the dummy variables from te relationship feature\n",
    "dummies = pd.get_dummies(df.relationship)\n",
    "\n",
    "# Concatenate the dummies to the original dataframe\n",
    "merged = pd.concat([df, dummies], axis='columns')\n",
    "\n",
    "# drop the education features as it is not neded anymore\n",
    "df=merged.drop(columns=['relationship'])\n"
   ]
  },
  {
   "cell_type": "code",
   "execution_count": 10,
   "metadata": {},
   "outputs": [],
   "source": [
    "# get the dummy variables from te race feature\n",
    "dummies = pd.get_dummies(df.race)\n",
    "\n",
    "# Concatenate the dummies to the original dataframe\n",
    "merged = pd.concat([df, dummies], axis='columns')\n",
    "\n",
    "# drop the education features as it is not neded anymore\n",
    "df=merged.drop(columns=['race'])\n"
   ]
  },
  {
   "cell_type": "code",
   "execution_count": 11,
   "metadata": {},
   "outputs": [],
   "source": [
    "# get the dummy variables from te sex feature\n",
    "dummies = pd.get_dummies(df.sex)\n",
    "\n",
    "# Concatenate the dummies to the original dataframe\n",
    "merged = pd.concat([df, dummies], axis='columns')\n",
    "\n",
    "# drop the sex features as it is not neded anymore\n",
    "df=merged.drop(columns=['sex'])\n"
   ]
  },
  {
   "cell_type": "code",
   "execution_count": 12,
   "metadata": {},
   "outputs": [],
   "source": [
    "# code the label/outcome to 0 and 1\n",
    "df[\"income\"] = df[\"income\"].replace('<=50K', 0)\n",
    "df[\"income\"] = df[\"income\"].replace('>50K', 1)"
   ]
  },
  {
   "cell_type": "code",
   "execution_count": 13,
   "metadata": {
    "scrolled": true
   },
   "outputs": [
    {
     "name": "stdout",
     "output_type": "stream",
     "text": [
      "<class 'pandas.core.frame.DataFrame'>\n",
      "RangeIndex: 32561 entries, 0 to 32560\n",
      "Data columns (total 52 columns):\n",
      " #   Column                 Non-Null Count  Dtype\n",
      "---  ------                 --------------  -----\n",
      " 0   age                    32561 non-null  int64\n",
      " 1   fnlwgt                 32561 non-null  int64\n",
      " 2   education              32561 non-null  int64\n",
      " 3   education.num          32561 non-null  int64\n",
      " 4   capital.gain           32561 non-null  int64\n",
      " 5   capital.loss           32561 non-null  int64\n",
      " 6   hours.per.week         32561 non-null  int64\n",
      " 7   income                 32561 non-null  int64\n",
      " 8   Federal-gov            32561 non-null  uint8\n",
      " 9   Local-gov              32561 non-null  uint8\n",
      " 10  Never-worked           32561 non-null  uint8\n",
      " 11  Private                32561 non-null  uint8\n",
      " 12  Self-emp-inc           32561 non-null  uint8\n",
      " 13  Self-emp-not-inc       32561 non-null  uint8\n",
      " 14  State-gov              32561 non-null  uint8\n",
      " 15  Without-pay            32561 non-null  uint8\n",
      " 16  unknown                32561 non-null  uint8\n",
      " 17  Divorced               32561 non-null  uint8\n",
      " 18  Married-AF-spouse      32561 non-null  uint8\n",
      " 19  Married-civ-spouse     32561 non-null  uint8\n",
      " 20  Married-spouse-absent  32561 non-null  uint8\n",
      " 21  Never-married          32561 non-null  uint8\n",
      " 22  Separated              32561 non-null  uint8\n",
      " 23  Widowed                32561 non-null  uint8\n",
      " 24  Adm-clerical           32561 non-null  uint8\n",
      " 25  Armed-Forces           32561 non-null  uint8\n",
      " 26  Craft-repair           32561 non-null  uint8\n",
      " 27  Exec-managerial        32561 non-null  uint8\n",
      " 28  Farming-fishing        32561 non-null  uint8\n",
      " 29  Handlers-cleaners      32561 non-null  uint8\n",
      " 30  Machine-op-inspct      32561 non-null  uint8\n",
      " 31  Other-service          32561 non-null  uint8\n",
      " 32  Priv-house-serv        32561 non-null  uint8\n",
      " 33  Prof-specialty         32561 non-null  uint8\n",
      " 34  Protective-serv        32561 non-null  uint8\n",
      " 35  Sales                  32561 non-null  uint8\n",
      " 36  Tech-support           32561 non-null  uint8\n",
      " 37  Transport-moving       32561 non-null  uint8\n",
      " 38  unknown                32561 non-null  uint8\n",
      " 39  Husband                32561 non-null  uint8\n",
      " 40  Not-in-family          32561 non-null  uint8\n",
      " 41  Other-relative         32561 non-null  uint8\n",
      " 42  Own-child              32561 non-null  uint8\n",
      " 43  Unmarried              32561 non-null  uint8\n",
      " 44  Wife                   32561 non-null  uint8\n",
      " 45  Amer-Indian-Eskimo     32561 non-null  uint8\n",
      " 46  Asian-Pac-Islander     32561 non-null  uint8\n",
      " 47  Black                  32561 non-null  uint8\n",
      " 48  Other                  32561 non-null  uint8\n",
      " 49  White                  32561 non-null  uint8\n",
      " 50  Female                 32561 non-null  uint8\n",
      " 51  Male                   32561 non-null  uint8\n",
      "dtypes: int64(8), uint8(44)\n",
      "memory usage: 3.4 MB\n"
     ]
    }
   ],
   "source": [
    "df[\"education\"] = df[\"education\"].replace('10th', 1)\n",
    "df[\"education\"] = df[\"education\"].replace('11th', 2)\n",
    "df[\"education\"] = df[\"education\"].replace('12th', 3)\n",
    "df[\"education\"] = df[\"education\"].replace('1st-4th', 4)\n",
    "df[\"education\"] = df[\"education\"].replace('5th-6th', 5)\n",
    "df[\"education\"] = df[\"education\"].replace('7th-8th', 6)\n",
    "df[\"education\"] = df[\"education\"].replace('9th', 7)\n",
    "df[\"education\"] = df[\"education\"].replace('Assoc-acdm', 8)\n",
    "df[\"education\"] = df[\"education\"].replace('Assoc-voc', 9)\n",
    "df[\"education\"] = df[\"education\"].replace('Bachelors', 10)\n",
    "df[\"education\"] = df[\"education\"].replace('Some-college', 11)\n",
    "df[\"education\"] = df[\"education\"].replace('Prof-school', 12)\n",
    "df[\"education\"] = df[\"education\"].replace('Masters', 13)\n",
    "df[\"education\"] = df[\"education\"].replace('HS-grad', 14)\n",
    "df[\"education\"] = df[\"education\"].replace('Doctorate', 15)\n",
    "df[\"education\"] = df[\"education\"].replace('Preschool', 16)\n",
    "\n",
    "df.info()"
   ]
  },
  {
   "cell_type": "code",
   "execution_count": 14,
   "metadata": {},
   "outputs": [
    {
     "data": {
      "text/plain": [
       "age                      0.234037\n",
       "fnlwgt                  -0.009463\n",
       "education                0.090447\n",
       "education.num            0.335154\n",
       "capital.gain             0.223329\n",
       "capital.loss             0.150526\n",
       "hours.per.week           0.229689\n",
       "income                   1.000000\n",
       "Federal-gov              0.059372\n",
       "Local-gov                0.033091\n",
       "Never-worked            -0.008259\n",
       "Private                 -0.078528\n",
       "Self-emp-inc             0.139467\n",
       "Self-emp-not-inc         0.030019\n",
       "State-gov                0.014843\n",
       "Without-pay             -0.011681\n",
       "unknown                 -0.078198\n",
       "Divorced                -0.126995\n",
       "Married-AF-spouse        0.012061\n",
       "Married-civ-spouse       0.444696\n",
       "Married-spouse-absent   -0.042532\n",
       "Never-married           -0.318440\n",
       "Separated               -0.074386\n",
       "Widowed                 -0.064381\n",
       "Adm-clerical            -0.089986\n",
       "Armed-Forces            -0.005044\n",
       "Craft-repair            -0.012576\n",
       "Exec-managerial          0.214861\n",
       "Farming-fishing         -0.051925\n",
       "Handlers-cleaners       -0.087265\n",
       "Machine-op-inspct       -0.069401\n",
       "Other-service           -0.156348\n",
       "Priv-house-serv         -0.037122\n",
       "Prof-specialty           0.185866\n",
       "Protective-serv          0.028118\n",
       "Sales                    0.023688\n",
       "Tech-support             0.025696\n",
       "Transport-moving        -0.021476\n",
       "unknown                 -0.078583\n",
       "Husband                  0.401035\n",
       "Not-in-family           -0.188497\n",
       "Other-relative          -0.083716\n",
       "Own-child               -0.228532\n",
       "Unmarried               -0.142857\n",
       "Wife                     0.123264\n",
       "Amer-Indian-Eskimo      -0.028721\n",
       "Asian-Pac-Islander       0.010543\n",
       "Black                   -0.089089\n",
       "Other                   -0.031830\n",
       "White                    0.085224\n",
       "Female                  -0.215980\n",
       "Male                     0.215980\n",
       "Name: income, dtype: float64"
      ]
     },
     "execution_count": 14,
     "metadata": {},
     "output_type": "execute_result"
    }
   ],
   "source": [
    "#display a corelation matrix that will allow us to notice the imprtant features that are highly correlated with the outcome (i.e., the income in this problem)\n",
    "# A correlation coefficient close to zero indicates an uncorrelated/marginal feature in relation to the outcome\n",
    "correlation_matrix = df.corr()\n",
    "correlation_matrix[\"income\"]"
   ]
  },
  {
   "cell_type": "code",
   "execution_count": 15,
   "metadata": {},
   "outputs": [],
   "source": [
    "# Prepare the feature vector x and the class vector y \n",
    "#x = df.values # INCORRECT : need to drop income \n",
    "x = df.drop(['income'], axis=1).values\n",
    "y = df['income'].values\n",
    "\n",
    "#scaling the whole dataset\n",
    "scl = MinMaxScaler() #is it better thn StandardScaler\n",
    "x = scl.fit_transform(x)"
   ]
  },
  {
   "cell_type": "code",
   "execution_count": 209,
   "metadata": {
    "scrolled": true
   },
   "outputs": [
    {
     "name": "stdout",
     "output_type": "stream",
     "text": [
      "k=1, SSE=100665.00422304912\n",
      "k=2, SSE=79500.4661585721\n",
      "k=3, SSE=71602.48788818745\n",
      "k=4, SSE=67865.22238230314\n",
      "k=5, SSE=65021.58351581503\n",
      "k=6, SSE=61272.519285730545\n"
     ]
    },
    {
     "data": {
      "image/png": "[encoded data removed]",
      "text/plain": [
       "<Figure size 432x288 with 1 Axes>"
      ]
     },
     "metadata": {
      "needs_background": "light"
     },
     "output_type": "display_data"
    }
   ],
   "source": [
    "# finding the best K: Elbow method \n",
    "sse = [] #n array to store the sum of square error\n",
    "number_clusters = range(1,7)\n",
    "for i in range(1, 7):\n",
    "    km = KMeans(n_clusters = i, init = 'k-means++', max_iter = 300, n_init = 10, random_state = 0)\n",
    "    km.fit(x)    \n",
    "    sse.append(km.inertia_) # append the intertia: intertia=the sum of squared distance of samples to their closest cluster center\n",
    "    print('k={}, SSE={}'.format(i, km.inertia_))\n",
    "  \n",
    "plt.plot(range(1,7), sse)\n",
    "plt.title('Optimizing Using The Elbow Method')\n",
    "plt.xlabel('Number of clusters')\n",
    "plt.ylabel('Cost')\n",
    "plt.show()"
   ]
  },
  {
   "cell_type": "code",
   "execution_count": 18,
   "metadata": {},
   "outputs": [
    {
     "data": {
      "text/plain": [
       "GridSearchCV(cv=10, estimator=KMeans(n_clusters=2, random_state=42),\n",
       "             param_grid={'n_clusters': [2, 3, 5, 7, 9, 11, 13, 15]},\n",
       "             scoring='accuracy')"
      ]
     },
     "execution_count": 18,
     "metadata": {},
     "output_type": "execute_result"
    }
   ],
   "source": [
    "# finding the best K: GridSearch\n",
    "from sklearn.model_selection import GridSearchCV\n",
    "from sklearn import metrics\n",
    "\n",
    "clusters = KMeans(n_clusters=2,random_state=42)\n",
    "\n",
    "params = {\n",
    "            'n_clusters': [2, 3, 5, 7,9,11,13,15]\n",
    "            }\n",
    "gridcv = GridSearchCV(clusters, params, cv = 10, scoring='accuracy')\n",
    "\n",
    "#fit the model\n",
    "gridcv = gridcv.fit(x,y)\n",
    "gridcv"
   ]
  },
  {
   "cell_type": "code",
   "execution_count": 38,
   "metadata": {},
   "outputs": [
    {
     "name": "stdout",
     "output_type": "stream",
     "text": [
      "best estimator= KMeans(n_clusters=2, random_state=42)\n"
     ]
    },
    {
     "data": {
      "text/plain": [
       "array([0, 0, 0, ..., 1, 0, 0])"
      ]
     },
     "execution_count": 38,
     "metadata": {},
     "output_type": "execute_result"
    }
   ],
   "source": [
    "optimalmodel=gridcv.best_estimator_\n",
    "print ('best estimator=',optimalmodel)\n",
    "y_pred=optimalmodel.predict(x)\n",
    "y_pred"
   ]
  },
  {
   "cell_type": "code",
   "execution_count": 39,
   "metadata": {},
   "outputs": [
    {
     "data": {
      "text/plain": [
       "array([[2.47161261, 3.13142783],\n",
       "       [2.14949519, 2.87394702],\n",
       "       [2.74825922, 3.339599  ],\n",
       "       ...,\n",
       "       [2.07611226, 1.09214504],\n",
       "       [1.91374206, 2.69238109],\n",
       "       [1.6420748 , 2.31297143]])"
      ]
     },
     "execution_count": 39,
     "metadata": {},
     "output_type": "execute_result"
    }
   ],
   "source": [
    "# trasnform assigns for each instance a score per cluster (in our case, two scores)\n",
    "y_pred=optimalmodel.transform(x)\n",
    "y_pred"
   ]
  },
  {
   "cell_type": "code",
   "execution_count": 42,
   "metadata": {},
   "outputs": [
    {
     "data": {
      "text/plain": [
       "array([0, 0, 0, ..., 1, 0, 0])"
      ]
     },
     "execution_count": 42,
     "metadata": {},
     "output_type": "execute_result"
    }
   ],
   "source": [
    "labels=optimalmodel.labels_\n",
    "labels\n",
    "\n",
    "\n"
   ]
  },
  {
   "cell_type": "code",
   "execution_count": 43,
   "metadata": {},
   "outputs": [
    {
     "data": {
      "text/plain": [
       "array([[ 2.47044713e-01,  1.21690293e-01,  6.44801470e-01,\n",
       "         5.94630756e-01,  5.88518078e-03,  1.43223689e-02,\n",
       "         3.76464983e-01,  2.74528155e-02,  6.37965996e-02,\n",
       "         3.63957781e-04,  7.29059429e-01,  1.70020278e-02,\n",
       "         5.12660531e-02,  4.07112775e-02,  4.67945718e-04,\n",
       "         6.98798939e-02,  2.31009203e-01,  7.27915562e-04,\n",
       "         8.61540061e-02,  2.17334789e-02,  5.55451568e-01,\n",
       "         5.32938179e-02,  5.16300109e-02,  1.64040971e-01,\n",
       "         3.11963812e-04,  8.10585972e-02,  9.69687516e-02,\n",
       "         2.25653824e-02,  4.78344512e-02,  5.75053294e-02,\n",
       "         1.43815317e-01,  7.69510737e-03,  1.20937971e-01,\n",
       "         1.41943535e-02,  1.10591171e-01,  3.00005199e-02,\n",
       "         3.22362606e-02,  7.02438517e-02,  6.66133815e-15,\n",
       "         4.31237976e-01,  4.73145115e-02,  2.60853741e-01,\n",
       "         1.79171216e-01,  8.14225550e-02,  1.12306972e-02,\n",
       "         3.19242968e-02,  1.27229241e-01,  9.67087818e-03,\n",
       "         8.19944886e-01,  5.59975043e-01,  4.40024957e-01],\n",
       "       [ 3.65763086e-01,  1.18893109e-01,  6.69622849e-01,\n",
       "         6.20888355e-01,  1.78351641e-02,  2.82962186e-02,\n",
       "         4.39881820e-01,  3.24129652e-02,  6.49759904e-02,\n",
       "         1.62630326e-19,  6.50810324e-01,  5.91986795e-02,\n",
       "         1.16671669e-01,  3.86404562e-02,  3.75150060e-04,\n",
       "         3.69147659e-02,  1.55431223e-15,  6.75270108e-04,\n",
       "         9.99324730e-01,  1.73472348e-16, -2.88657986e-15,\n",
       "        -3.67761377e-16,  9.02056208e-16,  4.61434574e-02,\n",
       "         2.25090036e-04,  1.90576230e-01,  1.65141056e-01,\n",
       "         4.20168067e-02,  3.37635054e-02,  6.72268908e-02,\n",
       "         3.96908764e-02,  7.50300120e-05,  1.36104442e-01,\n",
       "         2.82112845e-02,  1.14270708e-01,  2.63355342e-02,\n",
       "         7.33043217e-02,  3.69147659e-02,  9.89870948e-01,\n",
       "         8.25330132e-04,  5.32713085e-03,  3.82653061e-03,\n",
       "        -2.06779038e-15,  1.50060024e-04,  7.12785114e-03,\n",
       "         3.18877551e-02,  5.07953181e-02,  6.37755102e-03,\n",
       "         9.03811525e-01,  7.50300120e-05,  9.99924970e-01]])"
      ]
     },
     "execution_count": 43,
     "metadata": {},
     "output_type": "execute_result"
    }
   ],
   "source": [
    "clusters=optimalmodel.cluster_centers_\n",
    "clusters\n"
   ]
  },
  {
   "cell_type": "code",
   "execution_count": 24,
   "metadata": {},
   "outputs": [],
   "source": [
    "# we can assign a new instance to a cluster by using the .predict ()"
   ]
  },
  {
   "cell_type": "code",
   "execution_count": 37,
   "metadata": {},
   "outputs": [
    {
     "ename": "ValueError",
     "evalue": "'c' argument has 1 elements, which is inconsistent with 'x' and 'y' with size 32561.",
     "output_type": "error",
     "traceback": [
      "\u001b[1;31m---------------------------------------------------------------------------\u001b[0m",
      "\u001b[1;31mTypeError\u001b[0m                                 Traceback (most recent call last)",
      "\u001b[1;32m~\\AppData\\Roaming\\Python\\Python310\\site-packages\\matplotlib\\axes\\_axes.py\u001b[0m in \u001b[0;36m_parse_scatter_color_args\u001b[1;34m(c, edgecolors, kwargs, xsize, get_next_color_func)\u001b[0m\n\u001b[0;32m   4220\u001b[0m             \u001b[1;32mtry\u001b[0m\u001b[1;33m:\u001b[0m  \u001b[1;31m# Is 'c' acceptable as PathCollection facecolors?\u001b[0m\u001b[1;33m\u001b[0m\u001b[1;33m\u001b[0m\u001b[0m\n\u001b[1;32m-> 4221\u001b[1;33m                 \u001b[0mcolors\u001b[0m \u001b[1;33m=\u001b[0m \u001b[0mmcolors\u001b[0m\u001b[1;33m.\u001b[0m\u001b[0mto_rgba_array\u001b[0m\u001b[1;33m(\u001b[0m\u001b[0mc\u001b[0m\u001b[1;33m)\u001b[0m\u001b[1;33m\u001b[0m\u001b[1;33m\u001b[0m\u001b[0m\n\u001b[0m\u001b[0;32m   4222\u001b[0m             \u001b[1;32mexcept\u001b[0m \u001b[1;33m(\u001b[0m\u001b[0mTypeError\u001b[0m\u001b[1;33m,\u001b[0m \u001b[0mValueError\u001b[0m\u001b[1;33m)\u001b[0m \u001b[1;32mas\u001b[0m \u001b[0merr\u001b[0m\u001b[1;33m:\u001b[0m\u001b[1;33m\u001b[0m\u001b[1;33m\u001b[0m\u001b[0m\n",
      "\u001b[1;32m~\\AppData\\Roaming\\Python\\Python310\\site-packages\\matplotlib\\colors.py\u001b[0m in \u001b[0;36mto_rgba_array\u001b[1;34m(c, alpha)\u001b[0m\n\u001b[0;32m    362\u001b[0m \u001b[1;33m\u001b[0m\u001b[0m\n\u001b[1;32m--> 363\u001b[1;33m     \u001b[1;32mif\u001b[0m \u001b[0mlen\u001b[0m\u001b[1;33m(\u001b[0m\u001b[0mc\u001b[0m\u001b[1;33m)\u001b[0m \u001b[1;33m==\u001b[0m \u001b[1;36m0\u001b[0m\u001b[1;33m:\u001b[0m\u001b[1;33m\u001b[0m\u001b[1;33m\u001b[0m\u001b[0m\n\u001b[0m\u001b[0;32m    364\u001b[0m         \u001b[1;32mreturn\u001b[0m \u001b[0mnp\u001b[0m\u001b[1;33m.\u001b[0m\u001b[0mzeros\u001b[0m\u001b[1;33m(\u001b[0m\u001b[1;33m(\u001b[0m\u001b[1;36m0\u001b[0m\u001b[1;33m,\u001b[0m \u001b[1;36m4\u001b[0m\u001b[1;33m)\u001b[0m\u001b[1;33m,\u001b[0m \u001b[0mfloat\u001b[0m\u001b[1;33m)\u001b[0m\u001b[1;33m\u001b[0m\u001b[1;33m\u001b[0m\u001b[0m\n",
      "\u001b[1;31mTypeError\u001b[0m: len() of unsized object",
      "\nThe above exception was the direct cause of the following exception:\n",
      "\u001b[1;31mValueError\u001b[0m                                Traceback (most recent call last)",
      "\u001b[1;32m~\\AppData\\Local\\Temp/ipykernel_15768/1155933360.py\u001b[0m in \u001b[0;36m<module>\u001b[1;34m\u001b[0m\n\u001b[0;32m      1\u001b[0m \u001b[1;31m# Plot the data\u001b[0m\u001b[1;33m\u001b[0m\u001b[1;33m\u001b[0m\u001b[0m\n\u001b[1;32m----> 2\u001b[1;33m plt.scatter(x[:,0],\n\u001b[0m\u001b[0;32m      3\u001b[0m             x[:,1], c=optimalmodel.n_clusters)\n\u001b[0;32m      4\u001b[0m \u001b[1;33m\u001b[0m\u001b[0m\n\u001b[0;32m      5\u001b[0m \u001b[1;31m# Plot the clusters\u001b[0m\u001b[1;33m\u001b[0m\u001b[1;33m\u001b[0m\u001b[0m\n",
      "\u001b[1;32m~\\AppData\\Roaming\\Python\\Python310\\site-packages\\matplotlib\\pyplot.py\u001b[0m in \u001b[0;36mscatter\u001b[1;34m(x, y, s, c, marker, cmap, norm, vmin, vmax, alpha, linewidths, edgecolors, plotnonfinite, data, **kwargs)\u001b[0m\n\u001b[0;32m   2805\u001b[0m         \u001b[0mvmin\u001b[0m\u001b[1;33m=\u001b[0m\u001b[1;32mNone\u001b[0m\u001b[1;33m,\u001b[0m \u001b[0mvmax\u001b[0m\u001b[1;33m=\u001b[0m\u001b[1;32mNone\u001b[0m\u001b[1;33m,\u001b[0m \u001b[0malpha\u001b[0m\u001b[1;33m=\u001b[0m\u001b[1;32mNone\u001b[0m\u001b[1;33m,\u001b[0m \u001b[0mlinewidths\u001b[0m\u001b[1;33m=\u001b[0m\u001b[1;32mNone\u001b[0m\u001b[1;33m,\u001b[0m \u001b[1;33m*\u001b[0m\u001b[1;33m,\u001b[0m\u001b[1;33m\u001b[0m\u001b[1;33m\u001b[0m\u001b[0m\n\u001b[0;32m   2806\u001b[0m         edgecolors=None, plotnonfinite=False, data=None, **kwargs):\n\u001b[1;32m-> 2807\u001b[1;33m     __ret = gca().scatter(\n\u001b[0m\u001b[0;32m   2808\u001b[0m         \u001b[0mx\u001b[0m\u001b[1;33m,\u001b[0m \u001b[0my\u001b[0m\u001b[1;33m,\u001b[0m \u001b[0ms\u001b[0m\u001b[1;33m=\u001b[0m\u001b[0ms\u001b[0m\u001b[1;33m,\u001b[0m \u001b[0mc\u001b[0m\u001b[1;33m=\u001b[0m\u001b[0mc\u001b[0m\u001b[1;33m,\u001b[0m \u001b[0mmarker\u001b[0m\u001b[1;33m=\u001b[0m\u001b[0mmarker\u001b[0m\u001b[1;33m,\u001b[0m \u001b[0mcmap\u001b[0m\u001b[1;33m=\u001b[0m\u001b[0mcmap\u001b[0m\u001b[1;33m,\u001b[0m \u001b[0mnorm\u001b[0m\u001b[1;33m=\u001b[0m\u001b[0mnorm\u001b[0m\u001b[1;33m,\u001b[0m\u001b[1;33m\u001b[0m\u001b[1;33m\u001b[0m\u001b[0m\n\u001b[0;32m   2809\u001b[0m         \u001b[0mvmin\u001b[0m\u001b[1;33m=\u001b[0m\u001b[0mvmin\u001b[0m\u001b[1;33m,\u001b[0m \u001b[0mvmax\u001b[0m\u001b[1;33m=\u001b[0m\u001b[0mvmax\u001b[0m\u001b[1;33m,\u001b[0m \u001b[0malpha\u001b[0m\u001b[1;33m=\u001b[0m\u001b[0malpha\u001b[0m\u001b[1;33m,\u001b[0m \u001b[0mlinewidths\u001b[0m\u001b[1;33m=\u001b[0m\u001b[0mlinewidths\u001b[0m\u001b[1;33m,\u001b[0m\u001b[1;33m\u001b[0m\u001b[1;33m\u001b[0m\u001b[0m\n",
      "\u001b[1;32m~\\AppData\\Roaming\\Python\\Python310\\site-packages\\matplotlib\\__init__.py\u001b[0m in \u001b[0;36minner\u001b[1;34m(ax, data, *args, **kwargs)\u001b[0m\n\u001b[0;32m   1410\u001b[0m     \u001b[1;32mdef\u001b[0m \u001b[0minner\u001b[0m\u001b[1;33m(\u001b[0m\u001b[0max\u001b[0m\u001b[1;33m,\u001b[0m \u001b[1;33m*\u001b[0m\u001b[0margs\u001b[0m\u001b[1;33m,\u001b[0m \u001b[0mdata\u001b[0m\u001b[1;33m=\u001b[0m\u001b[1;32mNone\u001b[0m\u001b[1;33m,\u001b[0m \u001b[1;33m**\u001b[0m\u001b[0mkwargs\u001b[0m\u001b[1;33m)\u001b[0m\u001b[1;33m:\u001b[0m\u001b[1;33m\u001b[0m\u001b[1;33m\u001b[0m\u001b[0m\n\u001b[0;32m   1411\u001b[0m         \u001b[1;32mif\u001b[0m \u001b[0mdata\u001b[0m \u001b[1;32mis\u001b[0m \u001b[1;32mNone\u001b[0m\u001b[1;33m:\u001b[0m\u001b[1;33m\u001b[0m\u001b[1;33m\u001b[0m\u001b[0m\n\u001b[1;32m-> 1412\u001b[1;33m             \u001b[1;32mreturn\u001b[0m \u001b[0mfunc\u001b[0m\u001b[1;33m(\u001b[0m\u001b[0max\u001b[0m\u001b[1;33m,\u001b[0m \u001b[1;33m*\u001b[0m\u001b[0mmap\u001b[0m\u001b[1;33m(\u001b[0m\u001b[0msanitize_sequence\u001b[0m\u001b[1;33m,\u001b[0m \u001b[0margs\u001b[0m\u001b[1;33m)\u001b[0m\u001b[1;33m,\u001b[0m \u001b[1;33m**\u001b[0m\u001b[0mkwargs\u001b[0m\u001b[1;33m)\u001b[0m\u001b[1;33m\u001b[0m\u001b[1;33m\u001b[0m\u001b[0m\n\u001b[0m\u001b[0;32m   1413\u001b[0m \u001b[1;33m\u001b[0m\u001b[0m\n\u001b[0;32m   1414\u001b[0m         \u001b[0mbound\u001b[0m \u001b[1;33m=\u001b[0m \u001b[0mnew_sig\u001b[0m\u001b[1;33m.\u001b[0m\u001b[0mbind\u001b[0m\u001b[1;33m(\u001b[0m\u001b[0max\u001b[0m\u001b[1;33m,\u001b[0m \u001b[1;33m*\u001b[0m\u001b[0margs\u001b[0m\u001b[1;33m,\u001b[0m \u001b[1;33m**\u001b[0m\u001b[0mkwargs\u001b[0m\u001b[1;33m)\u001b[0m\u001b[1;33m\u001b[0m\u001b[1;33m\u001b[0m\u001b[0m\n",
      "\u001b[1;32m~\\AppData\\Roaming\\Python\\Python310\\site-packages\\matplotlib\\axes\\_axes.py\u001b[0m in \u001b[0;36mscatter\u001b[1;34m(self, x, y, s, c, marker, cmap, norm, vmin, vmax, alpha, linewidths, edgecolors, plotnonfinite, **kwargs)\u001b[0m\n\u001b[0;32m   4385\u001b[0m             \u001b[0morig_edgecolor\u001b[0m \u001b[1;33m=\u001b[0m \u001b[0mkwargs\u001b[0m\u001b[1;33m.\u001b[0m\u001b[0mget\u001b[0m\u001b[1;33m(\u001b[0m\u001b[1;34m'edgecolor'\u001b[0m\u001b[1;33m,\u001b[0m \u001b[1;32mNone\u001b[0m\u001b[1;33m)\u001b[0m\u001b[1;33m\u001b[0m\u001b[1;33m\u001b[0m\u001b[0m\n\u001b[0;32m   4386\u001b[0m         \u001b[0mc\u001b[0m\u001b[1;33m,\u001b[0m \u001b[0mcolors\u001b[0m\u001b[1;33m,\u001b[0m \u001b[0medgecolors\u001b[0m \u001b[1;33m=\u001b[0m\u001b[0;31m \u001b[0m\u001b[0;31m\\\u001b[0m\u001b[1;33m\u001b[0m\u001b[1;33m\u001b[0m\u001b[0m\n\u001b[1;32m-> 4387\u001b[1;33m             self._parse_scatter_color_args(\n\u001b[0m\u001b[0;32m   4388\u001b[0m                 \u001b[0mc\u001b[0m\u001b[1;33m,\u001b[0m \u001b[0medgecolors\u001b[0m\u001b[1;33m,\u001b[0m \u001b[0mkwargs\u001b[0m\u001b[1;33m,\u001b[0m \u001b[0mx\u001b[0m\u001b[1;33m.\u001b[0m\u001b[0msize\u001b[0m\u001b[1;33m,\u001b[0m\u001b[1;33m\u001b[0m\u001b[1;33m\u001b[0m\u001b[0m\n\u001b[0;32m   4389\u001b[0m                 get_next_color_func=self._get_patches_for_fill.get_next_color)\n",
      "\u001b[1;32m~\\AppData\\Roaming\\Python\\Python310\\site-packages\\matplotlib\\axes\\_axes.py\u001b[0m in \u001b[0;36m_parse_scatter_color_args\u001b[1;34m(c, edgecolors, kwargs, xsize, get_next_color_func)\u001b[0m\n\u001b[0;32m   4225\u001b[0m                 \u001b[1;32melse\u001b[0m\u001b[1;33m:\u001b[0m\u001b[1;33m\u001b[0m\u001b[1;33m\u001b[0m\u001b[0m\n\u001b[0;32m   4226\u001b[0m                     \u001b[1;32mif\u001b[0m \u001b[1;32mnot\u001b[0m \u001b[0mvalid_shape\u001b[0m\u001b[1;33m:\u001b[0m\u001b[1;33m\u001b[0m\u001b[1;33m\u001b[0m\u001b[0m\n\u001b[1;32m-> 4227\u001b[1;33m                         \u001b[1;32mraise\u001b[0m \u001b[0minvalid_shape_exception\u001b[0m\u001b[1;33m(\u001b[0m\u001b[0mc\u001b[0m\u001b[1;33m.\u001b[0m\u001b[0msize\u001b[0m\u001b[1;33m,\u001b[0m \u001b[0mxsize\u001b[0m\u001b[1;33m)\u001b[0m \u001b[1;32mfrom\u001b[0m \u001b[0merr\u001b[0m\u001b[1;33m\u001b[0m\u001b[1;33m\u001b[0m\u001b[0m\n\u001b[0m\u001b[0;32m   4228\u001b[0m                     \u001b[1;31m# Both the mapping *and* the RGBA conversion failed: pretty\u001b[0m\u001b[1;33m\u001b[0m\u001b[1;33m\u001b[0m\u001b[0m\n\u001b[0;32m   4229\u001b[0m                     \u001b[1;31m# severe failure => one may appreciate a verbose feedback.\u001b[0m\u001b[1;33m\u001b[0m\u001b[1;33m\u001b[0m\u001b[0m\n",
      "\u001b[1;31mValueError\u001b[0m: 'c' argument has 1 elements, which is inconsistent with 'x' and 'y' with size 32561."
     ]
    },
    {
     "data": {
      "image/png": "[encoded data removed]",
      "text/plain": [
       "<Figure size 432x288 with 1 Axes>"
      ]
     },
     "metadata": {
      "needs_background": "light"
     },
     "output_type": "display_data"
    }
   ],
   "source": [
    "\n",
    "\n",
    "# Plot the data\n",
    "plt.scatter(x[:,0],\n",
    "            x[:,1], c=optimalmodel.n_clusters)\n",
    "\n",
    "# Plot the clusters \n",
    "plt.scatter(optimalmodel.cluster_centers_[:, 0], \n",
    "            optimalmodel.cluster_centers_[:, 1], \n",
    "            s=200,                             # centroid size\n",
    "            c='red')                           # centroid color\n",
    "plt.show()\n"
   ]
  },
  {
   "cell_type": "code",
   "execution_count": null,
   "metadata": {},
   "outputs": [],
   "source": []
  }
 ],
 "metadata": {
  "colab": {
   "authorship_tag": "ABX9TyODtn09HRLrmI/9R8pNZq6k",
   "include_colab_link": true,
   "name": "Multiple Linear Regression.ipynb",
   "provenance": [],
   "toc_visible": true
  },
  "kernelspec": {
   "display_name": "Python 3 (ipykernel)",
   "language": "python",
   "name": "python3"
  },
  "language_info": {
   "codemirror_mode": {
    "name": "ipython",
    "version": 3
   },
   "file_extension": ".py",
   "mimetype": "text/x-python",
   "name": "python",
   "nbconvert_exporter": "python",
   "pygments_lexer": "ipython3",
   "version": "3.10.7"
  }
 },
 "nbformat": 4,
 "nbformat_minor": 4
}
