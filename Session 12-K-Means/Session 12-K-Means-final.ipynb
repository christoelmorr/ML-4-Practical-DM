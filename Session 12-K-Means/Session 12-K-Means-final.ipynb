{
 "cells": [
  {
   "cell_type": "markdown",
   "metadata": {
    "colab_type": "text",
    "id": "view-in-github"
   },
   "source": [
    "<a href=\"https://colab.research.google.com/github/Aashrut/Machine-Learning/blob/master/Multiple_Linear_Regression.ipynb\" target=\"_parent\"><img src=\"https://colab.research.google.com/assets/colab-badge.svg\" alt=\"Open In Colab\"/></a>"
   ]
  },
  {
   "cell_type": "markdown",
   "metadata": {
    "colab_type": "text",
    "id": "6KXnQsdzxlWm"
   },
   "source": [
    "#Data Preprocessing"
   ]
  },
  {
   "cell_type": "code",
   "execution_count": 188,
   "metadata": {
    "scrolled": true
   },
   "outputs": [
    {
     "name": "stdout",
     "output_type": "stream",
     "text": [
      "<class 'pandas.core.frame.DataFrame'>\n",
      "RangeIndex: 32561 entries, 0 to 32560\n",
      "Data columns (total 15 columns):\n",
      " #   Column          Non-Null Count  Dtype \n",
      "---  ------          --------------  ----- \n",
      " 0   age             32561 non-null  int64 \n",
      " 1   workclass       32561 non-null  object\n",
      " 2   fnlwgt          32561 non-null  int64 \n",
      " 3   education       32561 non-null  object\n",
      " 4   education.num   32561 non-null  int64 \n",
      " 5   marital.status  32561 non-null  object\n",
      " 6   occupation      32561 non-null  object\n",
      " 7   relationship    32561 non-null  object\n",
      " 8   race            32561 non-null  object\n",
      " 9   sex             32561 non-null  object\n",
      " 10  capital.gain    32561 non-null  int64 \n",
      " 11  capital.loss    32561 non-null  int64 \n",
      " 12  hours.per.week  32561 non-null  int64 \n",
      " 13  native.country  32561 non-null  object\n",
      " 14  income          32561 non-null  object\n",
      "dtypes: int64(6), object(9)\n",
      "memory usage: 3.7+ MB\n"
     ]
    }
   ],
   "source": [
    "# Imports Required Libraries\n",
    "import numpy as np \n",
    "import pandas as pd # data processing\n",
    "import matplotlib.pyplot as plt \n",
    "import seaborn as sns\n",
    "import numpy as np\n",
    "\n",
    "from sklearn.cluster import KMeans\n",
    "from sklearn.metrics import average_precision_score\n",
    "from sklearn.metrics import precision_recall_curve\n",
    "from sklearn.metrics import confusion_matrix, roc_curve,accuracy_score,roc_auc_score,classification_report,auc\n",
    "from sklearn.metrics import f1_score\n",
    "from sklearn.preprocessing import StandardScaler\n",
    "from sklearn.preprocessing import MinMaxScaler\n",
    "\n",
    "%matplotlib inline\n",
    "\n",
    "# load persons Dataset\n",
    "df = pd.read_csv('adult.csv')\n",
    "\n",
    "df.info()"
   ]
  },
  {
   "cell_type": "code",
   "execution_count": 189,
   "metadata": {},
   "outputs": [
    {
     "data": {
      "image/png": "[encoded data removed]",
      "text/plain": [
       "<Figure size 504x360 with 1 Axes>"
      ]
     },
     "metadata": {
      "needs_background": "light"
     },
     "output_type": "display_data"
    }
   ],
   "source": [
    "#Data Visualisation\n",
    "f, ax = plt.subplots(figsize=(7, 5))\n",
    "sns.countplot(x='income', data=df)\n",
    "_ = plt.title('(Person\\'s income <= 50k) vs (Persons Income > 50k)')\n",
    "_ = plt.xlabel('Person\\'s Income')\n",
    "_ = plt.ylabel('Frequency')"
   ]
  },
  {
   "cell_type": "code",
   "execution_count": 190,
   "metadata": {},
   "outputs": [],
   "source": [
    "#More Data Visualisation\n",
    "#p=sns.pairplot(df, hue = 'income')"
   ]
  },
  {
   "cell_type": "code",
   "execution_count": 191,
   "metadata": {},
   "outputs": [],
   "source": [
    "df[\"workclass\"] = df[\"workclass\"].replace('?','unknown')\n",
    "df[\"occupation\"] = df[\"occupation\"].replace('?','unknown')\n",
    "\n",
    "\n",
    "# the first note is that you need to replace unknown values with a mode or drop that \"unknown\" instances; if not then they will ranked in an ordinal variables whiich does not make sense\n",
    "# second you need to ordinal encode the odinal variables not just one-hot-encode them; OrdinalEncoder class with catgories parameters can be used\n",
    "# the 3rd is that cetagorical data acannot be ordered but should be one-hot-encoded; if not algorithms will learn that their order matters; \n",
    "\n"
   ]
  },
  {
   "cell_type": "code",
   "execution_count": 192,
   "metadata": {},
   "outputs": [
    {
     "name": "stdout",
     "output_type": "stream",
     "text": [
      "<class 'pandas.core.frame.DataFrame'>\n",
      "RangeIndex: 32561 entries, 0 to 32560\n",
      "Data columns (total 22 columns):\n",
      " #   Column            Non-Null Count  Dtype \n",
      "---  ------            --------------  ----- \n",
      " 0   age               32561 non-null  int64 \n",
      " 1   fnlwgt            32561 non-null  int64 \n",
      " 2   education         32561 non-null  object\n",
      " 3   education.num     32561 non-null  int64 \n",
      " 4   marital.status    32561 non-null  object\n",
      " 5   occupation        32561 non-null  object\n",
      " 6   relationship      32561 non-null  object\n",
      " 7   race              32561 non-null  object\n",
      " 8   sex               32561 non-null  object\n",
      " 9   capital.gain      32561 non-null  int64 \n",
      " 10  capital.loss      32561 non-null  int64 \n",
      " 11  hours.per.week    32561 non-null  int64 \n",
      " 12  native.country    32561 non-null  object\n",
      " 13  income            32561 non-null  object\n",
      " 14  Federal-gov       32561 non-null  uint8 \n",
      " 15  Local-gov         32561 non-null  uint8 \n",
      " 16  Never-worked      32561 non-null  uint8 \n",
      " 17  Private           32561 non-null  uint8 \n",
      " 18  Self-emp-inc      32561 non-null  uint8 \n",
      " 19  Self-emp-not-inc  32561 non-null  uint8 \n",
      " 20  State-gov         32561 non-null  uint8 \n",
      " 21  Without-pay       32561 non-null  uint8 \n",
      "dtypes: int64(6), object(8), uint8(8)\n",
      "memory usage: 3.7+ MB\n"
     ]
    }
   ],
   "source": [
    "# get the dummy variables from te workclass feature\n",
    "dummies = pd.get_dummies(df.workclass)\n",
    "    \n",
    "# Concatenate the dummies to the original dataframe\n",
    "merged = pd.concat([df, dummies], axis='columns')\n",
    "# drop the workclass features as it is not needed anymore\n",
    "# Also drop one of the dummy variables to avoid the dummy variable trap (the value any new column can be deduced from the other new ones)\n",
    "df=merged.drop(columns=['workclass', 'unknown'])\n",
    "\n",
    "# print the dataframe info for verification\n",
    "df.info()"
   ]
  },
  {
   "cell_type": "code",
   "execution_count": 193,
   "metadata": {},
   "outputs": [],
   "source": [
    "from sklearn.model_selection import GridSearchCV # needd about 20 minutes to run\n"
   ]
  },
  {
   "cell_type": "code",
   "execution_count": 194,
   "metadata": {},
   "outputs": [],
   "source": [
    "# get the dummy variables from te marital.status feature\n",
    "dummies = pd.get_dummies(df[\"marital.status\"])\n",
    "\n",
    "# Concatenate the dummies to the original dataframe\n",
    "merged = pd.concat([df, dummies], axis='columns')\n",
    "# drop the education features as it is not neded anymore\n",
    "# Also drop one of the dummy variables to avoid the dummy variaable trap (the value any new column can be deduced from the other new ones)\n",
    "df=merged.drop(columns=['marital.status', 'Widowed'])\n"
   ]
  },
  {
   "cell_type": "code",
   "execution_count": 195,
   "metadata": {},
   "outputs": [],
   "source": [
    "# get the dummy variables from te occupation feature\n",
    "dummies = pd.get_dummies(df.occupation)\n",
    "\n",
    "# Concatenate the dummies to the original dataframe\n",
    "merged = pd.concat([df, dummies], axis='columns')\n",
    "# drop the education features as it is not neded anymore\n",
    "# Also drop one of the dummy variables to avoid the dummy variaable trap (the value any new column can be deduced from the other new ones)\n",
    "df=merged.drop(columns=['occupation', 'unknown'])\n",
    "\n",
    "# print the dataframe info for verification\n",
    "#df.info()"
   ]
  },
  {
   "cell_type": "code",
   "execution_count": 196,
   "metadata": {},
   "outputs": [],
   "source": [
    "# get the dummy variables from te relationship feature\n",
    "dummies = pd.get_dummies(df.relationship)\n",
    "\n",
    "# Concatenate the dummies to the original dataframe\n",
    "merged = pd.concat([df, dummies], axis='columns')\n",
    "# drop the education features as it is not neded anymore\n",
    "# Also drop one of the dummy variables to avoid the dummy variaable trap (the value any new column can be deduced from the other new ones)\n",
    "df=merged.drop(columns=['relationship','Not-in-family'])\n"
   ]
  },
  {
   "cell_type": "code",
   "execution_count": 197,
   "metadata": {},
   "outputs": [],
   "source": [
    "# get the dummy variables from te race feature\n",
    "dummies = pd.get_dummies(df.race)\n",
    "\n",
    "# Concatenate the dummies to the original dataframe\n",
    "merged = pd.concat([df, dummies], axis='columns')\n",
    "# drop the education features as it is not neded anymore\n",
    "# Also drop one of the dummy variables to avoid the dummy variaable trap (the value any new column can be deduced from the other new ones)\n",
    "df=merged.drop(columns=['race', 'Other'])\n"
   ]
  },
  {
   "cell_type": "code",
   "execution_count": 198,
   "metadata": {},
   "outputs": [],
   "source": [
    "# get the dummy variables from te sex feature\n",
    "dummies = pd.get_dummies(df.sex)\n",
    "\n",
    "# Concatenate the dummies to the original dataframe\n",
    "merged = pd.concat([df, dummies], axis='columns')\n",
    "# drop the sex features as it is not neded anymore\n",
    "# Also drop one of the dummy variables to avoid the dummy variaable trap (the value any new column can be deduced from the other new ones)\n",
    "df=merged.drop(columns=['sex', 'Male'])\n"
   ]
  },
  {
   "cell_type": "code",
   "execution_count": 199,
   "metadata": {},
   "outputs": [],
   "source": [
    "# code the label/outcome to 0 and 1\n",
    "df[\"income\"] = df[\"income\"].replace('<=50K', 0)\n",
    "df[\"income\"] = df[\"income\"].replace('>50K', 1)"
   ]
  },
  {
   "cell_type": "code",
   "execution_count": 200,
   "metadata": {
    "scrolled": true
   },
   "outputs": [
    {
     "name": "stdout",
     "output_type": "stream",
     "text": [
      "<class 'pandas.core.frame.DataFrame'>\n",
      "RangeIndex: 32561 entries, 0 to 32560\n",
      "Data columns (total 46 columns):\n",
      " #   Column                 Non-Null Count  Dtype\n",
      "---  ------                 --------------  -----\n",
      " 0   age                    32561 non-null  int64\n",
      " 1   fnlwgt                 32561 non-null  int64\n",
      " 2   education              32561 non-null  int64\n",
      " 3   education.num          32561 non-null  int64\n",
      " 4   capital.gain           32561 non-null  int64\n",
      " 5   capital.loss           32561 non-null  int64\n",
      " 6   hours.per.week         32561 non-null  int64\n",
      " 7   income                 32561 non-null  int64\n",
      " 8   Federal-gov            32561 non-null  uint8\n",
      " 9   Local-gov              32561 non-null  uint8\n",
      " 10  Never-worked           32561 non-null  uint8\n",
      " 11  Private                32561 non-null  uint8\n",
      " 12  Self-emp-inc           32561 non-null  uint8\n",
      " 13  Self-emp-not-inc       32561 non-null  uint8\n",
      " 14  State-gov              32561 non-null  uint8\n",
      " 15  Without-pay            32561 non-null  uint8\n",
      " 16  Divorced               32561 non-null  uint8\n",
      " 17  Married-AF-spouse      32561 non-null  uint8\n",
      " 18  Married-civ-spouse     32561 non-null  uint8\n",
      " 19  Married-spouse-absent  32561 non-null  uint8\n",
      " 20  Never-married          32561 non-null  uint8\n",
      " 21  Separated              32561 non-null  uint8\n",
      " 22  Adm-clerical           32561 non-null  uint8\n",
      " 23  Armed-Forces           32561 non-null  uint8\n",
      " 24  Craft-repair           32561 non-null  uint8\n",
      " 25  Exec-managerial        32561 non-null  uint8\n",
      " 26  Farming-fishing        32561 non-null  uint8\n",
      " 27  Handlers-cleaners      32561 non-null  uint8\n",
      " 28  Machine-op-inspct      32561 non-null  uint8\n",
      " 29  Other-service          32561 non-null  uint8\n",
      " 30  Priv-house-serv        32561 non-null  uint8\n",
      " 31  Prof-specialty         32561 non-null  uint8\n",
      " 32  Protective-serv        32561 non-null  uint8\n",
      " 33  Sales                  32561 non-null  uint8\n",
      " 34  Tech-support           32561 non-null  uint8\n",
      " 35  Transport-moving       32561 non-null  uint8\n",
      " 36  Husband                32561 non-null  uint8\n",
      " 37  Other-relative         32561 non-null  uint8\n",
      " 38  Own-child              32561 non-null  uint8\n",
      " 39  Unmarried              32561 non-null  uint8\n",
      " 40  Wife                   32561 non-null  uint8\n",
      " 41  Amer-Indian-Eskimo     32561 non-null  uint8\n",
      " 42  Asian-Pac-Islander     32561 non-null  uint8\n",
      " 43  Black                  32561 non-null  uint8\n",
      " 44  White                  32561 non-null  uint8\n",
      " 45  Female                 32561 non-null  uint8\n",
      "dtypes: int64(8), uint8(38)\n",
      "memory usage: 3.2 MB\n"
     ]
    }
   ],
   "source": [
    "df[\"education\"] = df[\"education\"].replace('10th', 1)\n",
    "df[\"education\"] = df[\"education\"].replace('11th', 2)\n",
    "df[\"education\"] = df[\"education\"].replace('12th', 3)\n",
    "df[\"education\"] = df[\"education\"].replace('1st-4th', 4)\n",
    "df[\"education\"] = df[\"education\"].replace('5th-6th', 5)\n",
    "df[\"education\"] = df[\"education\"].replace('7th-8th', 6)\n",
    "df[\"education\"] = df[\"education\"].replace('9th', 7)\n",
    "df[\"education\"] = df[\"education\"].replace('Assoc-acdm', 8)\n",
    "df[\"education\"] = df[\"education\"].replace('Assoc-voc', 9)\n",
    "df[\"education\"] = df[\"education\"].replace('Bachelors', 10)\n",
    "df[\"education\"] = df[\"education\"].replace('Some-college', 11)\n",
    "df[\"education\"] = df[\"education\"].replace('Prof-school', 12)\n",
    "df[\"education\"] = df[\"education\"].replace('Masters', 13)\n",
    "df[\"education\"] = df[\"education\"].replace('HS-grad', 14)\n",
    "df[\"education\"] = df[\"education\"].replace('Doctorate', 15)\n",
    "df[\"education\"] = df[\"education\"].replace('Preschool', 16)\n",
    "\n",
    "#drop two irrelevant features\n",
    "df =df.drop([\"native.country\"], axis =1)\n",
    "\n",
    "df.info()"
   ]
  },
  {
   "cell_type": "code",
   "execution_count": null,
   "metadata": {},
   "outputs": [],
   "source": []
  },
  {
   "cell_type": "code",
   "execution_count": 201,
   "metadata": {},
   "outputs": [
    {
     "data": {
      "text/plain": [
       "age                      0.234037\n",
       "fnlwgt                  -0.009463\n",
       "education                0.090447\n",
       "education.num            0.335154\n",
       "capital.gain             0.223329\n",
       "capital.loss             0.150526\n",
       "hours.per.week           0.229689\n",
       "income                   1.000000\n",
       "Federal-gov              0.059372\n",
       "Local-gov                0.033091\n",
       "Never-worked            -0.008259\n",
       "Private                 -0.078528\n",
       "Self-emp-inc             0.139467\n",
       "Self-emp-not-inc         0.030019\n",
       "State-gov                0.014843\n",
       "Without-pay             -0.011681\n",
       "Divorced                -0.126995\n",
       "Married-AF-spouse        0.012061\n",
       "Married-civ-spouse       0.444696\n",
       "Married-spouse-absent   -0.042532\n",
       "Never-married           -0.318440\n",
       "Separated               -0.074386\n",
       "Adm-clerical            -0.089986\n",
       "Armed-Forces            -0.005044\n",
       "Craft-repair            -0.012576\n",
       "Exec-managerial          0.214861\n",
       "Farming-fishing         -0.051925\n",
       "Handlers-cleaners       -0.087265\n",
       "Machine-op-inspct       -0.069401\n",
       "Other-service           -0.156348\n",
       "Priv-house-serv         -0.037122\n",
       "Prof-specialty           0.185866\n",
       "Protective-serv          0.028118\n",
       "Sales                    0.023688\n",
       "Tech-support             0.025696\n",
       "Transport-moving        -0.021476\n",
       "Husband                  0.401035\n",
       "Other-relative          -0.083716\n",
       "Own-child               -0.228532\n",
       "Unmarried               -0.142857\n",
       "Wife                     0.123264\n",
       "Amer-Indian-Eskimo      -0.028721\n",
       "Asian-Pac-Islander       0.010543\n",
       "Black                   -0.089089\n",
       "White                    0.085224\n",
       "Female                  -0.215980\n",
       "Name: income, dtype: float64"
      ]
     },
     "execution_count": 201,
     "metadata": {},
     "output_type": "execute_result"
    }
   ],
   "source": [
    "#display a corelation matrix that will allow us to notice the imprtant features that are highly correlated with the outcome (i.e., the income in this problem)\n",
    "# A correlation coefficient close to zero indicates an uncorrelated/marginal feature in relation to the outcome\n",
    "correlation_matrix = df.corr()\n",
    "correlation_matrix[\"income\"]"
   ]
  },
  {
   "cell_type": "code",
   "execution_count": 202,
   "metadata": {},
   "outputs": [
    {
     "data": {
      "text/plain": [
       "array([[    90,  77053,     14, ...,      0,      1,      1],\n",
       "       [    82, 132870,     14, ...,      0,      1,      1],\n",
       "       [    66, 186061,     11, ...,      1,      0,      1],\n",
       "       ...,\n",
       "       [    40, 154374,     14, ...,      0,      1,      0],\n",
       "       [    58, 151910,     14, ...,      0,      1,      1],\n",
       "       [    22, 201490,     14, ...,      0,      1,      0]], dtype=int64)"
      ]
     },
     "execution_count": 202,
     "metadata": {},
     "output_type": "execute_result"
    }
   ],
   "source": [
    "# Prepare the feature vector x and the class vector y \n",
    "#x = df.values # INCORRECT : need to drop income \n",
    "x = df.drop(['income'], axis=1).values\n",
    "y = df['income'].values\n",
    "x"
   ]
  },
  {
   "cell_type": "code",
   "execution_count": 203,
   "metadata": {},
   "outputs": [
    {
     "data": {
      "text/plain": [
       "array([[1.        , 0.04398745, 0.86666667, ..., 0.        , 1.        ,\n",
       "        1.        ],\n",
       "       [0.89041096, 0.08189579, 0.86666667, ..., 0.        , 1.        ,\n",
       "        1.        ],\n",
       "       [0.67123288, 0.11802067, 0.66666667, ..., 1.        , 0.        ,\n",
       "        1.        ],\n",
       "       ...,\n",
       "       [0.31506849, 0.09650032, 0.86666667, ..., 0.        , 1.        ,\n",
       "        0.        ],\n",
       "       [0.56164384, 0.09482688, 0.86666667, ..., 0.        , 1.        ,\n",
       "        1.        ],\n",
       "       [0.06849315, 0.12849934, 0.86666667, ..., 0.        , 1.        ,\n",
       "        0.        ]])"
      ]
     },
     "execution_count": 203,
     "metadata": {},
     "output_type": "execute_result"
    }
   ],
   "source": [
    "#scaling the whole dataset\n",
    "scl = MinMaxScaler() #is it better thn StandardScaler\n",
    "x = scl.fit_transform(x)\n",
    "x"
   ]
  },
  {
   "cell_type": "code",
   "execution_count": 209,
   "metadata": {
    "scrolled": true
   },
   "outputs": [
    {
     "name": "stdout",
     "output_type": "stream",
     "text": [
      "k=1, SSE=100665.00422304912\n",
      "k=2, SSE=79500.4661585721\n",
      "k=3, SSE=71602.48788818745\n",
      "k=4, SSE=67865.22238230314\n",
      "k=5, SSE=65021.58351581503\n",
      "k=6, SSE=61272.519285730545\n"
     ]
    },
    {
     "data": {
      "image/png": "[encoded data removed]",
      "text/plain": [
       "<Figure size 432x288 with 1 Axes>"
      ]
     },
     "metadata": {
      "needs_background": "light"
     },
     "output_type": "display_data"
    }
   ],
   "source": [
    "# finding the best K: Elbow method \n",
    "sse = [] #n array to store the sum of square error\n",
    "number_clusters = range(1,7)\n",
    "for i in range(1, 7):\n",
    "    km = KMeans(n_clusters = i, init = 'k-means++', max_iter = 300, n_init = 10, random_state = 0)\n",
    "    km.fit(x)    \n",
    "    sse.append(km.inertia_) # append the intertia: intertia=the sum of squared distance of samples to their closest cluster center\n",
    "    print('k={}, SSE={}'.format(i, km.inertia_))\n",
    "  \n",
    "plt.plot(range(1,7), sse)\n",
    "plt.title('Optimizing Using The Elbow Method')\n",
    "plt.xlabel('Number of clusters')\n",
    "plt.ylabel('Cost')\n",
    "plt.show()"
   ]
  },
  {
   "cell_type": "code",
   "execution_count": 225,
   "metadata": {},
   "outputs": [],
   "source": [
    "\n",
    "# finding the best K: GridSearch\n",
    "from sklearn.model_selection import GridSearchCV\n",
    "from sklearn import metrics\n",
    "\n",
    "clusters = KMeans(n_clusters=2,random_state=42)\n",
    "\n",
    "params = {\n",
    "            'n_clusters': [2, 3, 5, 7,9,11,13,15]\n",
    "            }\n",
    "gridcv = GridSearchCV(clusters, params, cv = 10, scoring='accuracy')\n",
    "\n"
   ]
  },
  {
   "cell_type": "code",
   "execution_count": 226,
   "metadata": {},
   "outputs": [],
   "source": [
    "#fit the dataset\n",
    "\n",
    "#clstr = clusters.fit(x_new)\n",
    "optimalmodel = gridcv.fit(x,y)\n",
    "\n"
   ]
  },
  {
   "cell_type": "code",
   "execution_count": 252,
   "metadata": {},
   "outputs": [
    {
     "data": {
      "text/plain": [
       "GridSearchCV(cv=10, estimator=KMeans(n_clusters=2, random_state=42),\n",
       "             param_grid={'n_clusters': [2, 3, 5, 7, 9, 11, 13, 15]},\n",
       "             scoring='accuracy')"
      ]
     },
     "execution_count": 252,
     "metadata": {},
     "output_type": "execute_result"
    }
   ],
   "source": [
    "optimalmodel"
   ]
  },
  {
   "cell_type": "code",
   "execution_count": 253,
   "metadata": {},
   "outputs": [
    {
     "name": "stdout",
     "output_type": "stream",
     "text": [
      "best estimator= KMeans(n_clusters=2, random_state=42)\n"
     ]
    },
    {
     "data": {
      "text/plain": [
       "array([0, 0, 0, ..., 1, 0, 0])"
      ]
     },
     "execution_count": 253,
     "metadata": {},
     "output_type": "execute_result"
    }
   ],
   "source": [
    "best_model=optimalmodel.best_estimator_\n",
    "print ('best estimator=',best_model)\n",
    "y_pred=optimalmodel.predict(x)\n",
    "y_pred\n",
    "\n"
   ]
  },
  {
   "cell_type": "code",
   "execution_count": 254,
   "metadata": {},
   "outputs": [
    {
     "data": {
      "text/plain": [
       "array([[1.72145574, 2.22577516],\n",
       "       [1.78729341, 2.29358543],\n",
       "       [2.13182369, 2.70201566],\n",
       "       ...,\n",
       "       [1.94832783, 1.09095225],\n",
       "       [1.54082006, 2.29107979],\n",
       "       [1.4775938 , 2.31355322]])"
      ]
     },
     "execution_count": 254,
     "metadata": {},
     "output_type": "execute_result"
    }
   ],
   "source": [
    "# trasnform assigns for each instance a score per cluster (in our case, two scores)\n",
    "y_pred=optimalmodel.transform(x)\n",
    "y_pred\n",
    "\n"
   ]
  },
  {
   "cell_type": "code",
   "execution_count": 258,
   "metadata": {},
   "outputs": [
    {
     "data": {
      "text/plain": [
       "array([[ 2.46941133e-01,  1.21704222e-01,  6.44708816e-01,\n",
       "         5.94510537e-01,  5.88028894e-03,  1.43104640e-02,\n",
       "         3.76473307e-01,  2.74819471e-02,  6.37435711e-02,\n",
       "         3.63655255e-04,  7.29232687e-01,  1.69878955e-02,\n",
       "         5.12234402e-02,  4.06774378e-02,  4.67556756e-04,\n",
       "         2.30817185e-01,  7.27310510e-04,  8.69136059e-02,\n",
       "         2.17154138e-02,  5.54989870e-01,  5.32495195e-02,\n",
       "         1.64008520e-01,  3.11704504e-04,  8.10431711e-02,\n",
       "         9.68881500e-02,  2.25466258e-02,  4.81063951e-02,\n",
       "         5.74575303e-02,  1.43955530e-01,  7.68871110e-03,\n",
       "         1.20785495e-01,  1.41825549e-02,  1.10603148e-01,\n",
       "         2.99755831e-02,  3.22614162e-02,  6.71684930e-15,\n",
       "         4.73271339e-02,  2.61468128e-01,  1.79022287e-01,\n",
       "         8.13548756e-02,  1.12213621e-02,  3.19497117e-02,\n",
       "         1.27331290e-01,  8.19782846e-01,  5.59509585e-01],\n",
       "       [ 3.66055552e-01,  1.18869606e-01,  6.69786659e-01,\n",
       "         6.21093750e-01,  1.78566006e-02,  2.83302285e-02,\n",
       "         4.39946005e-01,  3.23768029e-02,  6.50540865e-02,\n",
       "         1.35525272e-19,  6.50465745e-01,  5.92698317e-02,\n",
       "         1.16811899e-01,  3.86868990e-02,  3.75600962e-04,\n",
       "         1.49880108e-15,  6.76081731e-04,  9.99323918e-01,\n",
       "         1.75207071e-16, -2.99760217e-15, -3.60822483e-16,\n",
       "         4.60486779e-02,  2.25360577e-04,  1.90730168e-01,\n",
       "         1.65339543e-01,  4.20673077e-02,  3.33533654e-02,\n",
       "         6.73076923e-02,  3.93629808e-02,  7.51201923e-05,\n",
       "         1.36343149e-01,  2.82451923e-02,  1.14257812e-01,\n",
       "         2.63671875e-02,  7.33173077e-02,  9.91060697e-01,\n",
       "         5.25841346e-03,  2.62920673e-03, -2.09554596e-15,\n",
       "         1.50240385e-04,  7.13641827e-03,  3.18509615e-02,\n",
       "         5.05558894e-02,  9.04146635e-01,  7.51201923e-05]])"
      ]
     },
     "execution_count": 258,
     "metadata": {},
     "output_type": "execute_result"
    }
   ],
   "source": [
    "clusters=best_model.cluster_centers_\n",
    "clusters"
   ]
  },
  {
   "cell_type": "code",
   "execution_count": 256,
   "metadata": {},
   "outputs": [],
   "source": [
    "# we can assign a new instance to a cluster by using the .predict ()"
   ]
  },
  {
   "cell_type": "code",
   "execution_count": null,
   "metadata": {},
   "outputs": [],
   "source": []
  }
 ],
 "metadata": {
  "colab": {
   "authorship_tag": "ABX9TyODtn09HRLrmI/9R8pNZq6k",
   "include_colab_link": true,
   "name": "Multiple Linear Regression.ipynb",
   "provenance": [],
   "toc_visible": true
  },
  "kernelspec": {
   "display_name": "Python 3 (ipykernel)",
   "language": "python",
   "name": "python3"
  },
  "language_info": {
   "codemirror_mode": {
    "name": "ipython",
    "version": 3
   },
   "file_extension": ".py",
   "mimetype": "text/x-python",
   "name": "python",
   "nbconvert_exporter": "python",
   "pygments_lexer": "ipython3",
   "version": "3.10.7"
  }
 },
 "nbformat": 4,
 "nbformat_minor": 4
}
